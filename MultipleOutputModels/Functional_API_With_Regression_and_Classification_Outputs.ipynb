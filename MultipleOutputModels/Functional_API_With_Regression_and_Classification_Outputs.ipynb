{
  "cells": [
    {
      "cell_type": "markdown",
      "metadata": {
        "id": "view-in-github",
        "colab_type": "text"
      },
      "source": [
        "<a href=\"https://colab.research.google.com/github/monsieurshiva/AdvancedDeepLearning/blob/main/MultipleOutputModels/Functional_API_With_Regression_and_Classification_Outputs.ipynb\" target=\"_parent\"><img src=\"https://colab.research.google.com/assets/colab-badge.svg\" alt=\"Open In Colab\"/></a>"
      ]
    },
    {
      "cell_type": "markdown",
      "metadata": {
        "id": "ZL_6GK8qX35J"
      },
      "source": [
        "#Multiple Output Models using the Keras Functional API\n",
        "\n",
        "We will use the Keras functional API to train a model to predict two outputs. For this we will use the **[Wine Quality Dataset](https://archive.ics.uci.edu/ml/datasets/Wine+Quality)** from the **UCI machine learning repository**. It has separate datasets for red wine and white wine.\n",
        "\n",
        "Normally, the wines are classified into one of the quality ratings specified in the attributes. We will combine the two datasets to predict the wine quality and whether the wine is red or white solely from the attributes. \n",
        "\n",
        "We will model wine quality estimations as a regression problem and wine type detection as a binary classification problem.\n",
        "\n"
      ]
    },
    {
      "cell_type": "markdown",
      "metadata": {
        "id": "obdcD6urYBY9"
      },
      "source": [
        "## Imports"
      ]
    },
    {
      "cell_type": "code",
      "source": [
        "from google.colab import drive\n",
        "drive.mount('/content/drive')"
      ],
      "metadata": {
        "colab": {
          "base_uri": "https://localhost:8080/"
        },
        "id": "3gp1EqomJ6y_",
        "outputId": "fc1341c1-601c-4c22-e6ab-a57cdb5a76d1"
      },
      "execution_count": null,
      "outputs": [
        {
          "output_type": "stream",
          "name": "stdout",
          "text": [
            "Mounted at /content/drive\n"
          ]
        }
      ]
    },
    {
      "cell_type": "code",
      "execution_count": null,
      "metadata": {
        "id": "t8N3pcTQ5oQI"
      },
      "outputs": [],
      "source": [
        "import tensorflow as tf\n",
        "from tensorflow.keras.models import Model\n",
        "from tensorflow.keras.layers import Dense, Input\n",
        "\n",
        "import numpy as np\n",
        "import matplotlib.pyplot as plt\n",
        "import pandas as pd\n",
        "from sklearn.model_selection import train_test_split\n",
        "from sklearn.metrics import confusion_matrix\n",
        "import itertools"
      ]
    },
    {
      "cell_type": "markdown",
      "metadata": {
        "id": "gQMERzWQYpgm"
      },
      "source": [
        "## Load Dataset\n"
      ]
    },
    {
      "cell_type": "code",
      "execution_count": null,
      "metadata": {
        "deletable": false,
        "id": "2qYAjKXCd4RH",
        "nbgrader": {
          "cell_type": "code",
          "checksum": "325ea195519b7035934c95bb529a062c",
          "grade": false,
          "grade_id": "cell-e5bfa0f152d9a21f",
          "locked": false,
          "schema_version": 3,
          "solution": true,
          "task": false
        }
      },
      "outputs": [],
      "source": [
        "# URL of the white wine dataset\n",
        "URI = '/content/drive/MyDrive/winequality-white.csv'\n",
        "\n",
        "#load the dataset from the URL\n",
        "white_df = pd.read_csv(URI, sep=\";\")\n",
        "\n",
        "# fill the `is_red` column with zeros.\n",
        "white_df[\"is_red\"] = 0\n",
        "\n",
        "# keep only the first of duplicate items\n",
        "white_df = white_df.drop_duplicates(keep='first')\n"
      ]
    },
    {
      "cell_type": "code",
      "execution_count": null,
      "metadata": {
        "deletable": false,
        "id": "8y3QxKwBed8v",
        "nbgrader": {
          "cell_type": "code",
          "checksum": "12e0963d15be33b01b4e6ebc8945e51e",
          "grade": false,
          "grade_id": "cell-e47a40f306593274",
          "locked": false,
          "schema_version": 3,
          "solution": true,
          "task": false
        }
      },
      "outputs": [],
      "source": [
        "# URL of the red wine dataset\n",
        "URI = '/content/drive/MyDrive/winequality-red.csv'\n",
        "\n",
        "# load the dataset from the URL\n",
        "red_df = pd.read_csv(URI, sep=\";\")\n",
        "\n",
        "# fill the `is_red` column with ones.\n",
        "red_df[\"is_red\"] = 1\n",
        "\n",
        "# keep only the first of duplicate items\n",
        "red_df = red_df.drop_duplicates(keep='first')\n"
      ]
    },
    {
      "cell_type": "markdown",
      "metadata": {
        "id": "2G8B-NYuM6-f"
      },
      "source": [
        "### Concatenate the datasets\n",
        "\n",
        "Next, concatenate the red and white wine dataframes."
      ]
    },
    {
      "cell_type": "code",
      "execution_count": null,
      "metadata": {
        "id": "YpQrOjJbfN3m"
      },
      "outputs": [],
      "source": [
        "df = pd.concat([red_df, white_df], ignore_index=True)"
      ]
    },
    {
      "cell_type": "code",
      "execution_count": null,
      "metadata": {
        "id": "wx6y3rPpQv4k"
      },
      "outputs": [],
      "source": [
        "#Randomising and mixing the data in the dataset\n",
        "df = df.iloc[np.random.permutation(len(df))]"
      ]
    },
    {
      "cell_type": "markdown",
      "metadata": {
        "id": "-EqIcbg5M_n1"
      },
      "source": [
        "Charting the quality of the wines."
      ]
    },
    {
      "cell_type": "code",
      "execution_count": null,
      "metadata": {
        "colab": {
          "base_uri": "https://localhost:8080/",
          "height": 265
        },
        "id": "IsvK0-Sgy17C",
        "outputId": "7ac66d5a-77e1-41af-a90b-049799d59293"
      },
      "outputs": [
        {
          "output_type": "display_data",
          "data": {
            "text/plain": [
              "<Figure size 432x288 with 1 Axes>"
            ],
            "image/png": "[encoded data removed]"
          },
          "metadata": {
            "needs_background": "light"
          }
        }
      ],
      "source": [
        "df['quality'].hist(bins=20);"
      ]
    },
    {
      "cell_type": "markdown",
      "metadata": {
        "id": "Nut1rmYLzf-p"
      },
      "source": [
        "### Imbalanced data\n",
        "We can see from the plot above that the wine quality dataset is imbalanced. \n",
        "- Since there are very few observations with quality equal to 3, 4, 8 and 9, we can drop these observations from our dataset. \n",
        "- We can do this by removing data belonging to all classes except those > 4 and < 8."
      ]
    },
    {
      "cell_type": "code",
      "execution_count": null,
      "metadata": {
        "deletable": false,
        "id": "doH9_-gnf3sz",
        "nbgrader": {
          "cell_type": "code",
          "checksum": "d9ba9fc3a3ca02ccc567be33652b80fe",
          "grade": false,
          "grade_id": "cell-6a3e9db696f6827b",
          "locked": false,
          "schema_version": 3,
          "solution": true,
          "task": false
        }
      },
      "outputs": [],
      "source": [
        "# get data with wine quality greater than 4 and less than 8\n",
        "df = df[(df['quality'] > 4) & (df['quality'] < 8)]\n",
        "\n",
        "# reset index and drop the old one\n",
        "df = df.reset_index(drop=True)"
      ]
    },
    {
      "cell_type": "markdown",
      "metadata": {
        "id": "cwhuRpnVRTzG"
      },
      "source": [
        "We can plot again to see the new range of data and quality"
      ]
    },
    {
      "cell_type": "code",
      "execution_count": null,
      "metadata": {
        "colab": {
          "base_uri": "https://localhost:8080/",
          "height": 265
        },
        "id": "857ygzZiLgGg",
        "outputId": "e474a87f-d324-4441-cf1c-62f261a9ea61"
      },
      "outputs": [
        {
          "output_type": "display_data",
          "data": {
            "text/plain": [
              "<Figure size 432x288 with 1 Axes>"
            ],
            "image/png": "[encoded data removed]"
          },
          "metadata": {
            "needs_background": "light"
          }
        }
      ],
      "source": [
        "df['quality'].hist(bins=20);"
      ]
    },
    {
      "cell_type": "markdown",
      "metadata": {
        "id": "n3k0vqSsp84t"
      },
      "source": [
        "### Train Test Split\n",
        "\n",
        "Next, we can split the datasets into training, test and validation datasets.\n",
        "- The data frame should be split 80:20 into `train` and `test` sets.\n",
        "- The resulting `train` should then be split 80:20 into `train` and `val` sets.\n",
        "- The `train_test_split` parameter `test_size` takes a float value that ranges between 0. and 1, and represents the proportion of the dataset that is allocated to the test set.  The rest of the data is allocated to the training set."
      ]
    },
    {
      "cell_type": "code",
      "execution_count": null,
      "metadata": {
        "deletable": false,
        "id": "PAVIf2-fgRVY",
        "nbgrader": {
          "cell_type": "code",
          "checksum": "7f5738f4fb51d65adc9a8acbdf2b9970",
          "grade": false,
          "grade_id": "cell-91946cadf745206b",
          "locked": false,
          "schema_version": 3,
          "solution": true,
          "task": false
        }
      },
      "outputs": [],
      "source": [
        "# split df into 80:20 train and test sets\n",
        "train, test = train_test_split(df, test_size=0.2, random_state = 1)\n",
        "                               \n",
        "# split train into 80:20 train and val sets\n",
        "train, val = train_test_split(train, test_size=0.2, random_state = 1)"
      ]
    },
    {
      "cell_type": "markdown",
      "metadata": {
        "id": "RwTNu4KFqG-K"
      },
      "source": [
        "Here's where we can explore the training stats. We can pop the labels 'is_red' and 'quality' from the data as these will be used as the labels\n"
      ]
    },
    {
      "cell_type": "code",
      "execution_count": null,
      "metadata": {
        "id": "Y_afyhhHM6WQ"
      },
      "outputs": [],
      "source": [
        "train_stats = train.describe()\n",
        "train_stats.pop('is_red')\n",
        "train_stats.pop('quality')\n",
        "train_stats = train_stats.transpose()"
      ]
    },
    {
      "cell_type": "markdown",
      "metadata": {
        "id": "ahvbYm4fNqSt"
      },
      "source": [
        "Explore the training stats!"
      ]
    },
    {
      "cell_type": "code",
      "execution_count": null,
      "metadata": {
        "colab": {
          "base_uri": "https://localhost:8080/",
          "height": 394
        },
        "id": "n_gAtPjZ0otF",
        "outputId": "dab265af-02bc-43aa-c6ca-45ee68b53d17"
      },
      "outputs": [
        {
          "output_type": "execute_result",
          "data": {
            "text/plain": [
              "                       count        mean        std     min      25%  \\\n",
              "fixed acidity         3155.0    7.209509   1.300666  3.8000   6.4000   \n",
              "volatile acidity      3155.0    0.336946   0.160891  0.0800   0.2300   \n",
              "citric acid           3155.0    0.320526   0.145451  0.0000   0.2500   \n",
              "residual sugar        3155.0    5.148304   4.604233  0.7000   1.8000   \n",
              "chlorides             3155.0    0.057377   0.038181  0.0090   0.0380   \n",
              "free sulfur dioxide   3155.0   30.543423  17.105389  1.0000  17.0000   \n",
              "total sulfur dioxide  3155.0  115.292710  56.511014  6.0000  77.0000   \n",
              "density               3155.0    0.994622   0.003014  0.9874   0.9923   \n",
              "pH                    3155.0    3.222685   0.157625  2.7200   3.1200   \n",
              "sulphates             3155.0    0.535750   0.141978  0.2200   0.4400   \n",
              "alcohol               3155.0   10.506475   1.171224  8.0000   9.5000   \n",
              "\n",
              "                           50%         75%        max  \n",
              "fixed acidity           7.0000    7.700000   15.90000  \n",
              "volatile acidity        0.2900    0.400000    1.33000  \n",
              "citric acid             0.3100    0.400000    1.66000  \n",
              "residual sugar          2.8000    7.600000   65.80000  \n",
              "chlorides               0.0470    0.067000    0.61100  \n",
              "free sulfur dioxide    29.0000   42.000000  131.00000  \n",
              "total sulfur dioxide  117.0000  155.000000  313.00000  \n",
              "density                 0.9948    0.996825    1.03898  \n",
              "pH                      3.2100    3.330000    3.85000  \n",
              "sulphates               0.5200    0.610000    1.36000  \n",
              "alcohol                10.3000   11.300000   14.90000  "
            ],
            "text/html": [
              "\n",
              "  <div id=\"df-02deee73-5914-4798-9a65-b7a5aab0546b\">\n",
              "    <div class=\"colab-df-container\">\n",
              "      <div>\n",
              "<style scoped>\n",
              "    .dataframe tbody tr th:only-of-type {\n",
              "        vertical-align: middle;\n",
              "    }\n",
              "\n",
              "    .dataframe tbody tr th {\n",
              "        vertical-align: top;\n",
              "    }\n",
              "\n",
              "    .dataframe thead th {\n",
              "        text-align: right;\n",
              "    }\n",
              "</style>\n",
              "<table border=\"1\" class=\"dataframe\">\n",
              "  <thead>\n",
              "    <tr style=\"text-align: right;\">\n",
              "      <th></th>\n",
              "      <th>count</th>\n",
              "      <th>mean</th>\n",
              "      <th>std</th>\n",
              "      <th>min</th>\n",
              "      <th>25%</th>\n",
              "      <th>50%</th>\n",
              "      <th>75%</th>\n",
              "      <th>max</th>\n",
              "    </tr>\n",
              "  </thead>\n",
              "  <tbody>\n",
              "    <tr>\n",
              "      <th>fixed acidity</th>\n",
              "      <td>3155.0</td>\n",
              "      <td>7.209509</td>\n",
              "      <td>1.300666</td>\n",
              "      <td>3.8000</td>\n",
              "      <td>6.4000</td>\n",
              "      <td>7.0000</td>\n",
              "      <td>7.700000</td>\n",
              "      <td>15.90000</td>\n",
              "    </tr>\n",
              "    <tr>\n",
              "      <th>volatile acidity</th>\n",
              "      <td>3155.0</td>\n",
              "      <td>0.336946</td>\n",
              "      <td>0.160891</td>\n",
              "      <td>0.0800</td>\n",
              "      <td>0.2300</td>\n",
              "      <td>0.2900</td>\n",
              "      <td>0.400000</td>\n",
              "      <td>1.33000</td>\n",
              "    </tr>\n",
              "    <tr>\n",
              "      <th>citric acid</th>\n",
              "      <td>3155.0</td>\n",
              "      <td>0.320526</td>\n",
              "      <td>0.145451</td>\n",
              "      <td>0.0000</td>\n",
              "      <td>0.2500</td>\n",
              "      <td>0.3100</td>\n",
              "      <td>0.400000</td>\n",
              "      <td>1.66000</td>\n",
              "    </tr>\n",
              "    <tr>\n",
              "      <th>residual sugar</th>\n",
              "      <td>3155.0</td>\n",
              "      <td>5.148304</td>\n",
              "      <td>4.604233</td>\n",
              "      <td>0.7000</td>\n",
              "      <td>1.8000</td>\n",
              "      <td>2.8000</td>\n",
              "      <td>7.600000</td>\n",
              "      <td>65.80000</td>\n",
              "    </tr>\n",
              "    <tr>\n",
              "      <th>chlorides</th>\n",
              "      <td>3155.0</td>\n",
              "      <td>0.057377</td>\n",
              "      <td>0.038181</td>\n",
              "      <td>0.0090</td>\n",
              "      <td>0.0380</td>\n",
              "      <td>0.0470</td>\n",
              "      <td>0.067000</td>\n",
              "      <td>0.61100</td>\n",
              "    </tr>\n",
              "    <tr>\n",
              "      <th>free sulfur dioxide</th>\n",
              "      <td>3155.0</td>\n",
              "      <td>30.543423</td>\n",
              "      <td>17.105389</td>\n",
              "      <td>1.0000</td>\n",
              "      <td>17.0000</td>\n",
              "      <td>29.0000</td>\n",
              "      <td>42.000000</td>\n",
              "      <td>131.00000</td>\n",
              "    </tr>\n",
              "    <tr>\n",
              "      <th>total sulfur dioxide</th>\n",
              "      <td>3155.0</td>\n",
              "      <td>115.292710</td>\n",
              "      <td>56.511014</td>\n",
              "      <td>6.0000</td>\n",
              "      <td>77.0000</td>\n",
              "      <td>117.0000</td>\n",
              "      <td>155.000000</td>\n",
              "      <td>313.00000</td>\n",
              "    </tr>\n",
              "    <tr>\n",
              "      <th>density</th>\n",
              "      <td>3155.0</td>\n",
              "      <td>0.994622</td>\n",
              "      <td>0.003014</td>\n",
              "      <td>0.9874</td>\n",
              "      <td>0.9923</td>\n",
              "      <td>0.9948</td>\n",
              "      <td>0.996825</td>\n",
              "      <td>1.03898</td>\n",
              "    </tr>\n",
              "    <tr>\n",
              "      <th>pH</th>\n",
              "      <td>3155.0</td>\n",
              "      <td>3.222685</td>\n",
              "      <td>0.157625</td>\n",
              "      <td>2.7200</td>\n",
              "      <td>3.1200</td>\n",
              "      <td>3.2100</td>\n",
              "      <td>3.330000</td>\n",
              "      <td>3.85000</td>\n",
              "    </tr>\n",
              "    <tr>\n",
              "      <th>sulphates</th>\n",
              "      <td>3155.0</td>\n",
              "      <td>0.535750</td>\n",
              "      <td>0.141978</td>\n",
              "      <td>0.2200</td>\n",
              "      <td>0.4400</td>\n",
              "      <td>0.5200</td>\n",
              "      <td>0.610000</td>\n",
              "      <td>1.36000</td>\n",
              "    </tr>\n",
              "    <tr>\n",
              "      <th>alcohol</th>\n",
              "      <td>3155.0</td>\n",
              "      <td>10.506475</td>\n",
              "      <td>1.171224</td>\n",
              "      <td>8.0000</td>\n",
              "      <td>9.5000</td>\n",
              "      <td>10.3000</td>\n",
              "      <td>11.300000</td>\n",
              "      <td>14.90000</td>\n",
              "    </tr>\n",
              "  </tbody>\n",
              "</table>\n",
              "</div>\n",
              "      <button class=\"colab-df-convert\" onclick=\"convertToInteractive('df-02deee73-5914-4798-9a65-b7a5aab0546b')\"\n",
              "              title=\"Convert this dataframe to an interactive table.\"\n",
              "              style=\"display:none;\">\n",
              "        \n",
              "  <svg xmlns=\"http://www.w3.org/2000/svg\" height=\"24px\"viewBox=\"0 0 24 24\"\n",
              "       width=\"24px\">\n",
              "    <path d=\"M0 0h24v24H0V0z\" fill=\"none\"/>\n",
              "    <path d=\"M18.56 5.44l.94 2.06.94-2.06 2.06-.94-2.06-.94-.94-2.06-.94 2.06-2.06.94zm-11 1L8.5 8.5l.94-2.06 2.06-.94-2.06-.94L8.5 2.5l-.94 2.06-2.06.94zm10 10l.94 2.06.94-2.06 2.06-.94-2.06-.94-.94-2.06-.94 2.06-2.06.94z\"/><path d=\"M17.41 7.96l-1.37-1.37c-.4-.4-.92-.59-1.43-.59-.52 0-1.04.2-1.43.59L10.3 9.45l-7.72 7.72c-.78.78-.78 2.05 0 2.83L4 21.41c.39.39.9.59 1.41.59.51 0 1.02-.2 1.41-.59l7.78-7.78 2.81-2.81c.8-.78.8-2.07 0-2.86zM5.41 20L4 18.59l7.72-7.72 1.47 1.35L5.41 20z\"/>\n",
              "  </svg>\n",
              "      </button>\n",
              "      \n",
              "  <style>\n",
              "    .colab-df-container {\n",
              "      display:flex;\n",
              "      flex-wrap:wrap;\n",
              "      gap: 12px;\n",
              "    }\n",
              "\n",
              "    .colab-df-convert {\n",
              "      background-color: #E8F0FE;\n",
              "      border: none;\n",
              "      border-radius: 50%;\n",
              "      cursor: pointer;\n",
              "      display: none;\n",
              "      fill: #1967D2;\n",
              "      height: 32px;\n",
              "      padding: 0 0 0 0;\n",
              "      width: 32px;\n",
              "    }\n",
              "\n",
              "    .colab-df-convert:hover {\n",
              "      background-color: #E2EBFA;\n",
              "      box-shadow: 0px 1px 2px rgba(60, 64, 67, 0.3), 0px 1px 3px 1px rgba(60, 64, 67, 0.15);\n",
              "      fill: #174EA6;\n",
              "    }\n",
              "\n",
              "    [theme=dark] .colab-df-convert {\n",
              "      background-color: #3B4455;\n",
              "      fill: #D2E3FC;\n",
              "    }\n",
              "\n",
              "    [theme=dark] .colab-df-convert:hover {\n",
              "      background-color: #434B5C;\n",
              "      box-shadow: 0px 1px 3px 1px rgba(0, 0, 0, 0.15);\n",
              "      filter: drop-shadow(0px 1px 2px rgba(0, 0, 0, 0.3));\n",
              "      fill: #FFFFFF;\n",
              "    }\n",
              "  </style>\n",
              "\n",
              "      <script>\n",
              "        const buttonEl =\n",
              "          document.querySelector('#df-02deee73-5914-4798-9a65-b7a5aab0546b button.colab-df-convert');\n",
              "        buttonEl.style.display =\n",
              "          google.colab.kernel.accessAllowed ? 'block' : 'none';\n",
              "\n",
              "        async function convertToInteractive(key) {\n",
              "          const element = document.querySelector('#df-02deee73-5914-4798-9a65-b7a5aab0546b');\n",
              "          const dataTable =\n",
              "            await google.colab.kernel.invokeFunction('convertToInteractive',\n",
              "                                                     [key], {});\n",
              "          if (!dataTable) return;\n",
              "\n",
              "          const docLinkHtml = 'Like what you see? Visit the ' +\n",
              "            '<a target=\"_blank\" href=https://colab.research.google.com/notebooks/data_table.ipynb>data table notebook</a>'\n",
              "            + ' to learn more about interactive tables.';\n",
              "          element.innerHTML = '';\n",
              "          dataTable['output_type'] = 'display_data';\n",
              "          await google.colab.output.renderOutput(dataTable, element);\n",
              "          const docLink = document.createElement('div');\n",
              "          docLink.innerHTML = docLinkHtml;\n",
              "          element.appendChild(docLink);\n",
              "        }\n",
              "      </script>\n",
              "    </div>\n",
              "  </div>\n",
              "  "
            ]
          },
          "metadata": {},
          "execution_count": 12
        }
      ],
      "source": [
        "train_stats"
      ]
    },
    {
      "cell_type": "markdown",
      "metadata": {
        "id": "bGPvt9jir_HC"
      },
      "source": [
        "### Get the labels\n",
        "\n",
        "The features and labels are currently in the same dataframe.\n",
        "- We will store the label columns `is_red` and `quality` separately from the feature columns.\n",
        "- `format_output` also formats the data into numpy arrays."
      ]
    },
    {
      "cell_type": "code",
      "execution_count": null,
      "metadata": {
        "id": "Z_fs14XQqZVP"
      },
      "outputs": [],
      "source": [
        "def format_output(data):\n",
        "    is_red = data.pop('is_red')\n",
        "    is_red = np.array(is_red)\n",
        "    quality = data.pop('quality')\n",
        "    quality = np.array(quality)\n",
        "    return (quality, is_red)"
      ]
    },
    {
      "cell_type": "code",
      "execution_count": null,
      "metadata": {
        "deletable": false,
        "id": "8L3ZZe1fQicm",
        "nbgrader": {
          "cell_type": "code",
          "checksum": "7a86809e54895a816434c48dc903f55d",
          "grade": false,
          "grade_id": "cell-5c30fa2c2a354b0f",
          "locked": false,
          "schema_version": 3,
          "solution": true,
          "task": false
        }
      },
      "outputs": [],
      "source": [
        "# format the output of the train set\n",
        "train_Y = format_output(train)\n",
        "\n",
        "# format the output of the val set\n",
        "val_Y = format_output(val)\n",
        "    \n",
        "# format the output of the test set\n",
        "test_Y = format_output(test)"
      ]
    },
    {
      "cell_type": "code",
      "execution_count": null,
      "metadata": {
        "colab": {
          "base_uri": "https://localhost:8080/",
          "height": 206
        },
        "id": "BpKNiQT9JQs8",
        "outputId": "1301edf4-fcb1-48cb-e307-a9385d40e46e"
      },
      "outputs": [
        {
          "output_type": "execute_result",
          "data": {
            "text/plain": [
              "      fixed acidity  volatile acidity  citric acid  residual sugar  chlorides  \\\n",
              "225             7.7              0.22         0.42             1.9      0.052   \n",
              "3557            6.5              0.24         0.19             1.2      0.041   \n",
              "3825            7.5              0.40         1.00            19.5      0.041   \n",
              "1740            6.4              0.33         0.30             7.2      0.041   \n",
              "1221            6.4              0.26         0.21             8.2      0.050   \n",
              "\n",
              "      free sulfur dioxide  total sulfur dioxide  density    pH  sulphates  \\\n",
              "225                  10.0                  87.0  0.99220  3.30       0.49   \n",
              "3557                 30.0                 111.0  0.99254  2.99       0.46   \n",
              "3825                 33.0                 148.0  0.99770  3.24       0.38   \n",
              "1740                 42.0                 168.0  0.99331  3.22       0.49   \n",
              "1221                 51.0                 182.0  0.99542  3.23       0.48   \n",
              "\n",
              "      alcohol  \n",
              "225      11.8  \n",
              "3557      9.4  \n",
              "3825     12.0  \n",
              "1740     11.1  \n",
              "1221      9.5  "
            ],
            "text/html": [
              "\n",
              "  <div id=\"df-c47f3d1c-0f17-4011-8220-0330bfec1b38\">\n",
              "    <div class=\"colab-df-container\">\n",
              "      <div>\n",
              "<style scoped>\n",
              "    .dataframe tbody tr th:only-of-type {\n",
              "        vertical-align: middle;\n",
              "    }\n",
              "\n",
              "    .dataframe tbody tr th {\n",
              "        vertical-align: top;\n",
              "    }\n",
              "\n",
              "    .dataframe thead th {\n",
              "        text-align: right;\n",
              "    }\n",
              "</style>\n",
              "<table border=\"1\" class=\"dataframe\">\n",
              "  <thead>\n",
              "    <tr style=\"text-align: right;\">\n",
              "      <th></th>\n",
              "      <th>fixed acidity</th>\n",
              "      <th>volatile acidity</th>\n",
              "      <th>citric acid</th>\n",
              "      <th>residual sugar</th>\n",
              "      <th>chlorides</th>\n",
              "      <th>free sulfur dioxide</th>\n",
              "      <th>total sulfur dioxide</th>\n",
              "      <th>density</th>\n",
              "      <th>pH</th>\n",
              "      <th>sulphates</th>\n",
              "      <th>alcohol</th>\n",
              "    </tr>\n",
              "  </thead>\n",
              "  <tbody>\n",
              "    <tr>\n",
              "      <th>225</th>\n",
              "      <td>7.7</td>\n",
              "      <td>0.22</td>\n",
              "      <td>0.42</td>\n",
              "      <td>1.9</td>\n",
              "      <td>0.052</td>\n",
              "      <td>10.0</td>\n",
              "      <td>87.0</td>\n",
              "      <td>0.99220</td>\n",
              "      <td>3.30</td>\n",
              "      <td>0.49</td>\n",
              "      <td>11.8</td>\n",
              "    </tr>\n",
              "    <tr>\n",
              "      <th>3557</th>\n",
              "      <td>6.5</td>\n",
              "      <td>0.24</td>\n",
              "      <td>0.19</td>\n",
              "      <td>1.2</td>\n",
              "      <td>0.041</td>\n",
              "      <td>30.0</td>\n",
              "      <td>111.0</td>\n",
              "      <td>0.99254</td>\n",
              "      <td>2.99</td>\n",
              "      <td>0.46</td>\n",
              "      <td>9.4</td>\n",
              "    </tr>\n",
              "    <tr>\n",
              "      <th>3825</th>\n",
              "      <td>7.5</td>\n",
              "      <td>0.40</td>\n",
              "      <td>1.00</td>\n",
              "      <td>19.5</td>\n",
              "      <td>0.041</td>\n",
              "      <td>33.0</td>\n",
              "      <td>148.0</td>\n",
              "      <td>0.99770</td>\n",
              "      <td>3.24</td>\n",
              "      <td>0.38</td>\n",
              "      <td>12.0</td>\n",
              "    </tr>\n",
              "    <tr>\n",
              "      <th>1740</th>\n",
              "      <td>6.4</td>\n",
              "      <td>0.33</td>\n",
              "      <td>0.30</td>\n",
              "      <td>7.2</td>\n",
              "      <td>0.041</td>\n",
              "      <td>42.0</td>\n",
              "      <td>168.0</td>\n",
              "      <td>0.99331</td>\n",
              "      <td>3.22</td>\n",
              "      <td>0.49</td>\n",
              "      <td>11.1</td>\n",
              "    </tr>\n",
              "    <tr>\n",
              "      <th>1221</th>\n",
              "      <td>6.4</td>\n",
              "      <td>0.26</td>\n",
              "      <td>0.21</td>\n",
              "      <td>8.2</td>\n",
              "      <td>0.050</td>\n",
              "      <td>51.0</td>\n",
              "      <td>182.0</td>\n",
              "      <td>0.99542</td>\n",
              "      <td>3.23</td>\n",
              "      <td>0.48</td>\n",
              "      <td>9.5</td>\n",
              "    </tr>\n",
              "  </tbody>\n",
              "</table>\n",
              "</div>\n",
              "      <button class=\"colab-df-convert\" onclick=\"convertToInteractive('df-c47f3d1c-0f17-4011-8220-0330bfec1b38')\"\n",
              "              title=\"Convert this dataframe to an interactive table.\"\n",
              "              style=\"display:none;\">\n",
              "        \n",
              "  <svg xmlns=\"http://www.w3.org/2000/svg\" height=\"24px\"viewBox=\"0 0 24 24\"\n",
              "       width=\"24px\">\n",
              "    <path d=\"M0 0h24v24H0V0z\" fill=\"none\"/>\n",
              "    <path d=\"M18.56 5.44l.94 2.06.94-2.06 2.06-.94-2.06-.94-.94-2.06-.94 2.06-2.06.94zm-11 1L8.5 8.5l.94-2.06 2.06-.94-2.06-.94L8.5 2.5l-.94 2.06-2.06.94zm10 10l.94 2.06.94-2.06 2.06-.94-2.06-.94-.94-2.06-.94 2.06-2.06.94z\"/><path d=\"M17.41 7.96l-1.37-1.37c-.4-.4-.92-.59-1.43-.59-.52 0-1.04.2-1.43.59L10.3 9.45l-7.72 7.72c-.78.78-.78 2.05 0 2.83L4 21.41c.39.39.9.59 1.41.59.51 0 1.02-.2 1.41-.59l7.78-7.78 2.81-2.81c.8-.78.8-2.07 0-2.86zM5.41 20L4 18.59l7.72-7.72 1.47 1.35L5.41 20z\"/>\n",
              "  </svg>\n",
              "      </button>\n",
              "      \n",
              "  <style>\n",
              "    .colab-df-container {\n",
              "      display:flex;\n",
              "      flex-wrap:wrap;\n",
              "      gap: 12px;\n",
              "    }\n",
              "\n",
              "    .colab-df-convert {\n",
              "      background-color: #E8F0FE;\n",
              "      border: none;\n",
              "      border-radius: 50%;\n",
              "      cursor: pointer;\n",
              "      display: none;\n",
              "      fill: #1967D2;\n",
              "      height: 32px;\n",
              "      padding: 0 0 0 0;\n",
              "      width: 32px;\n",
              "    }\n",
              "\n",
              "    .colab-df-convert:hover {\n",
              "      background-color: #E2EBFA;\n",
              "      box-shadow: 0px 1px 2px rgba(60, 64, 67, 0.3), 0px 1px 3px 1px rgba(60, 64, 67, 0.15);\n",
              "      fill: #174EA6;\n",
              "    }\n",
              "\n",
              "    [theme=dark] .colab-df-convert {\n",
              "      background-color: #3B4455;\n",
              "      fill: #D2E3FC;\n",
              "    }\n",
              "\n",
              "    [theme=dark] .colab-df-convert:hover {\n",
              "      background-color: #434B5C;\n",
              "      box-shadow: 0px 1px 3px 1px rgba(0, 0, 0, 0.15);\n",
              "      filter: drop-shadow(0px 1px 2px rgba(0, 0, 0, 0.3));\n",
              "      fill: #FFFFFF;\n",
              "    }\n",
              "  </style>\n",
              "\n",
              "      <script>\n",
              "        const buttonEl =\n",
              "          document.querySelector('#df-c47f3d1c-0f17-4011-8220-0330bfec1b38 button.colab-df-convert');\n",
              "        buttonEl.style.display =\n",
              "          google.colab.kernel.accessAllowed ? 'block' : 'none';\n",
              "\n",
              "        async function convertToInteractive(key) {\n",
              "          const element = document.querySelector('#df-c47f3d1c-0f17-4011-8220-0330bfec1b38');\n",
              "          const dataTable =\n",
              "            await google.colab.kernel.invokeFunction('convertToInteractive',\n",
              "                                                     [key], {});\n",
              "          if (!dataTable) return;\n",
              "\n",
              "          const docLinkHtml = 'Like what you see? Visit the ' +\n",
              "            '<a target=\"_blank\" href=https://colab.research.google.com/notebooks/data_table.ipynb>data table notebook</a>'\n",
              "            + ' to learn more about interactive tables.';\n",
              "          element.innerHTML = '';\n",
              "          dataTable['output_type'] = 'display_data';\n",
              "          await google.colab.output.renderOutput(dataTable, element);\n",
              "          const docLink = document.createElement('div');\n",
              "          docLink.innerHTML = docLinkHtml;\n",
              "          element.appendChild(docLink);\n",
              "        }\n",
              "      </script>\n",
              "    </div>\n",
              "  </div>\n",
              "  "
            ]
          },
          "metadata": {},
          "execution_count": 15
        }
      ],
      "source": [
        "train.head()"
      ]
    },
    {
      "cell_type": "markdown",
      "metadata": {
        "id": "hEdbrruAsN1D"
      },
      "source": [
        "### Normalize the data\n",
        "\n",
        "Next, we can normalize the data, x, using the formula:\n",
        "$$x_{norm} = \\frac{x - \\mu}{\\sigma}$$"
      ]
    },
    {
      "cell_type": "code",
      "execution_count": null,
      "metadata": {
        "id": "WWiZPAHCLjUs"
      },
      "outputs": [],
      "source": [
        "def norm(x):\n",
        "    return (x - train_stats['mean']) / train_stats['std']"
      ]
    },
    {
      "cell_type": "code",
      "execution_count": null,
      "metadata": {
        "deletable": false,
        "id": "JEaOi2I2Lk69",
        "nbgrader": {
          "cell_type": "code",
          "checksum": "6bc0cdcb563d192f271067aa3373ff32",
          "grade": false,
          "grade_id": "cell-d8416d975c371095",
          "locked": false,
          "schema_version": 3,
          "solution": true,
          "task": false
        }
      },
      "outputs": [],
      "source": [
        "# normalize the train set\n",
        "norm_train_X = norm(train)\n",
        "    \n",
        "# normalize the val set\n",
        "norm_val_X = norm(val)\n",
        "    \n",
        "# normalize the test set\n",
        "norm_test_X = norm(test)"
      ]
    },
    {
      "cell_type": "markdown",
      "metadata": {
        "id": "hzykDwQhsaPO"
      },
      "source": [
        "## Define the Model\n",
        "\n",
        "Defining the model using the functional API. The base model will be 2 `Dense` layers of 128 neurons each, and have the `'relu'` activation."
      ]
    },
    {
      "cell_type": "code",
      "execution_count": null,
      "metadata": {
        "deletable": false,
        "id": "Rhcns3oTFkM6",
        "nbgrader": {
          "cell_type": "code",
          "checksum": "74b031247e569526552bf13a034a1c07",
          "grade": false,
          "grade_id": "cell-73fceedad1fe351c",
          "locked": false,
          "schema_version": 3,
          "solution": true,
          "task": false
        }
      },
      "outputs": [],
      "source": [
        "def base_model(inputs):\n",
        "    \n",
        "    # connect a Dense layer with 128 neurons and a relu activation\n",
        "    x = Dense(128,activation='relu')(inputs)\n",
        "    \n",
        "    # connect another Dense layer with 128 neurons and a relu activation\n",
        "    x = Dense(128,activation='relu')(x)\n",
        "    return x\n",
        "  "
      ]
    },
    {
      "cell_type": "markdown",
      "metadata": {
        "id": "xem_fcVws6Kz"
      },
      "source": [
        "# Define output layers of the model\n",
        "We will add output layers to the base model. \n",
        "- The model will need two outputs.\n",
        "\n",
        "One output layer will predict wine quality, which is a numeric value.\n",
        "- Define a `Dense` layer with 1 neuron.\n",
        "- Since this is a regression output, the activation can be left as its default value `None`.\n",
        "\n",
        "The other output layer will predict the wine type, which is either red `1` or not red `0` (white).\n",
        "- Define a `Dense` layer with 1 neuron.\n",
        "- Since there are two possible categories, we can use a sigmoid activation for binary classification.\n",
        "\n",
        "Define the `Model`\n",
        "- Define the `Model` object, and set the following parameters:\n",
        "  - `inputs`: pass in the inputs to the model as a list.\n",
        "  - `outputs`: pass in a list of the outputs that we defined: wine quality, then wine type."
      ]
    },
    {
      "cell_type": "code",
      "execution_count": null,
      "metadata": {
        "deletable": false,
        "id": "n5UGF8PMVLPt",
        "nbgrader": {
          "cell_type": "code",
          "checksum": "76d35b90d20cdcbb22986cd8211057de",
          "grade": false,
          "grade_id": "cell-19e285f482f021fb",
          "locked": false,
          "schema_version": 3,
          "solution": true,
          "task": false
        }
      },
      "outputs": [],
      "source": [
        "def final_model(inputs):\n",
        "    \n",
        "# get the base model\n",
        "    x = base_model(inputs)\n",
        "\n",
        "# connect the output Dense layer for regression\n",
        "    wine_quality = Dense(units='1', name='wine_quality')(x)\n",
        "\n",
        "# connect the output Dense layer for classification. this will use a sigmoid activation.\n",
        "    wine_type = Dense(units='1', activation='sigmoid', name='wine_type')(x)\n",
        "\n",
        "# define the model using the input and output layers\n",
        "    model = Model(inputs=inputs, outputs=[wine_quality,wine_type])\n",
        "\n",
        "    return model"
      ]
    },
    {
      "cell_type": "markdown",
      "metadata": {
        "id": "5R0BMTsltZyu"
      },
      "source": [
        "## Compiling the Model\n",
        "\n",
        "Next, compile the model. When setting the loss parameter of `model.compile`, we are setting the loss for each of the two outputs (wine quality and wine type).\n",
        "\n",
        "To set more than one loss, we use a dictionary of key-value pairs.\n",
        "- We can look at the docs for the losses [here](https://www.tensorflow.org/api_docs/python/tf/keras/losses#functions).\n",
        "\n",
        "- wine_type: Since we will be performing binary classification on wine type, we should use the binary crossentropy loss function for it.\n",
        "\n",
        "- wine_quality: Since this is a regression output, use the mean squared error.\n",
        "\n",
        "\n",
        "We will also set the metric for each of the two outputs.  Again, to set metrics for two or more outputs, use a dictionary with key value pairs.\n",
        "- The metrics documentation is linked [here](https://www.tensorflow.org/api_docs/python/tf/keras/metrics).\n",
        "- For the wine type, we can use accuracy.\n",
        "- For wine quality, we can use  root mean squared error.  "
      ]
    },
    {
      "cell_type": "code",
      "execution_count": null,
      "metadata": {
        "deletable": false,
        "id": "LK11duUbUjmh",
        "nbgrader": {
          "cell_type": "code",
          "checksum": "22f45067ca69eb2ccadb43874dbcc27b",
          "grade": false,
          "grade_id": "cell-81afdc4dcca51d5e",
          "locked": false,
          "schema_version": 3,
          "solution": true,
          "task": false
        }
      },
      "outputs": [],
      "source": [
        "inputs = tf.keras.layers.Input(shape=(11,))\n",
        "rms = tf.keras.optimizers.RMSprop(learning_rate=0.0001)\n",
        "model = final_model(inputs)\n",
        "\n",
        "model.compile(optimizer=rms, \n",
        "              loss = {'wine_type' : 'binary_crossentropy',\n",
        "                      'wine_quality' : 'mean_squared_error'\n",
        "                     },\n",
        "              metrics = {'wine_type' : 'accuracy',\n",
        "                         'wine_quality': tf.keras.metrics.RootMeanSquaredError()\n",
        "                       }\n",
        "             )\n"
      ]
    },
    {
      "cell_type": "markdown",
      "metadata": {
        "id": "90MpAMpWuKm-"
      },
      "source": [
        "## Training the Model\n",
        "\n",
        "Fit the model to the training inputs and outputs. \n",
        "- Check the documentation for [model.fit](https://www.tensorflow.org/api_docs/python/tf/keras/Model#fit).\n",
        "- Remember to use the normalized training set as inputs. "
      ]
    },
    {
      "cell_type": "code",
      "execution_count": null,
      "metadata": {
        "colab": {
          "base_uri": "https://localhost:8080/"
        },
        "deletable": false,
        "id": "_eiZkle4XwiY",
        "nbgrader": {
          "cell_type": "code",
          "checksum": "d1a4565296017a0611c6f2de675f96cf",
          "grade": false,
          "grade_id": "cell-0bb56262896f6680",
          "locked": false,
          "schema_version": 3,
          "solution": true,
          "task": false
        },
        "outputId": "6412c35e-8952-478b-a8fe-232ed32c4ca1"
      },
      "outputs": [
        {
          "output_type": "stream",
          "name": "stdout",
          "text": [
            "Epoch 1/40\n",
            "99/99 [==============================] - 2s 6ms/step - loss: 22.3958 - wine_quality_loss: 21.7301 - wine_type_loss: 0.6657 - wine_quality_root_mean_squared_error: 4.6616 - wine_type_accuracy: 0.6352 - val_loss: 14.2898 - val_wine_quality_loss: 13.6479 - val_wine_type_loss: 0.6419 - val_wine_quality_root_mean_squared_error: 3.6943 - val_wine_type_accuracy: 0.7022\n",
            "Epoch 2/40\n",
            "99/99 [==============================] - 0s 3ms/step - loss: 9.0866 - wine_quality_loss: 8.4754 - wine_type_loss: 0.6111 - wine_quality_root_mean_squared_error: 2.9113 - wine_type_accuracy: 0.7353 - val_loss: 4.9819 - val_wine_quality_loss: 4.4199 - val_wine_type_loss: 0.5621 - val_wine_quality_root_mean_squared_error: 2.1023 - val_wine_type_accuracy: 0.7972\n",
            "Epoch 3/40\n",
            "99/99 [==============================] - 0s 3ms/step - loss: 3.7461 - wine_quality_loss: 3.2552 - wine_type_loss: 0.4909 - wine_quality_root_mean_squared_error: 1.8042 - wine_type_accuracy: 0.8599 - val_loss: 2.9421 - val_wine_quality_loss: 2.5232 - val_wine_type_loss: 0.4188 - val_wine_quality_root_mean_squared_error: 1.5885 - val_wine_type_accuracy: 0.9138\n",
            "Epoch 4/40\n",
            "99/99 [==============================] - 0s 3ms/step - loss: 2.6313 - wine_quality_loss: 2.2735 - wine_type_loss: 0.3578 - wine_quality_root_mean_squared_error: 1.5078 - wine_type_accuracy: 0.9366 - val_loss: 2.3429 - val_wine_quality_loss: 2.0395 - val_wine_type_loss: 0.3034 - val_wine_quality_root_mean_squared_error: 1.4281 - val_wine_type_accuracy: 0.9683\n",
            "Epoch 5/40\n",
            "99/99 [==============================] - 0s 3ms/step - loss: 2.1189 - wine_quality_loss: 1.8617 - wine_type_loss: 0.2572 - wine_quality_root_mean_squared_error: 1.3644 - wine_type_accuracy: 0.9664 - val_loss: 2.0079 - val_wine_quality_loss: 1.7844 - val_wine_type_loss: 0.2235 - val_wine_quality_root_mean_squared_error: 1.3358 - val_wine_type_accuracy: 0.9747\n",
            "Epoch 6/40\n",
            "99/99 [==============================] - 0s 3ms/step - loss: 1.8369 - wine_quality_loss: 1.6434 - wine_type_loss: 0.1935 - wine_quality_root_mean_squared_error: 1.2820 - wine_type_accuracy: 0.9784 - val_loss: 1.7882 - val_wine_quality_loss: 1.6155 - val_wine_type_loss: 0.1727 - val_wine_quality_root_mean_squared_error: 1.2710 - val_wine_type_accuracy: 0.9785\n",
            "Epoch 7/40\n",
            "99/99 [==============================] - 0s 3ms/step - loss: 1.6406 - wine_quality_loss: 1.4906 - wine_type_loss: 0.1501 - wine_quality_root_mean_squared_error: 1.2209 - wine_type_accuracy: 0.9842 - val_loss: 1.6289 - val_wine_quality_loss: 1.4912 - val_wine_type_loss: 0.1377 - val_wine_quality_root_mean_squared_error: 1.2212 - val_wine_type_accuracy: 0.9810\n",
            "Epoch 8/40\n",
            "99/99 [==============================] - 0s 3ms/step - loss: 1.4884 - wine_quality_loss: 1.3678 - wine_type_loss: 0.1207 - wine_quality_root_mean_squared_error: 1.1695 - wine_type_accuracy: 0.9854 - val_loss: 1.5046 - val_wine_quality_loss: 1.3909 - val_wine_type_loss: 0.1137 - val_wine_quality_root_mean_squared_error: 1.1794 - val_wine_type_accuracy: 0.9835\n",
            "Epoch 9/40\n",
            "99/99 [==============================] - 0s 3ms/step - loss: 1.3684 - wine_quality_loss: 1.2677 - wine_type_loss: 0.1007 - wine_quality_root_mean_squared_error: 1.1259 - wine_type_accuracy: 0.9876 - val_loss: 1.3928 - val_wine_quality_loss: 1.2962 - val_wine_type_loss: 0.0966 - val_wine_quality_root_mean_squared_error: 1.1385 - val_wine_type_accuracy: 0.9848\n",
            "Epoch 10/40\n",
            "99/99 [==============================] - 0s 3ms/step - loss: 1.2722 - wine_quality_loss: 1.1856 - wine_type_loss: 0.0866 - wine_quality_root_mean_squared_error: 1.0889 - wine_type_accuracy: 0.9876 - val_loss: 1.3079 - val_wine_quality_loss: 1.2227 - val_wine_type_loss: 0.0852 - val_wine_quality_root_mean_squared_error: 1.1057 - val_wine_type_accuracy: 0.9848\n",
            "Epoch 11/40\n",
            "99/99 [==============================] - 0s 3ms/step - loss: 1.1750 - wine_quality_loss: 1.0988 - wine_type_loss: 0.0762 - wine_quality_root_mean_squared_error: 1.0482 - wine_type_accuracy: 0.9886 - val_loss: 1.2126 - val_wine_quality_loss: 1.1360 - val_wine_type_loss: 0.0767 - val_wine_quality_root_mean_squared_error: 1.0658 - val_wine_type_accuracy: 0.9848\n",
            "Epoch 12/40\n",
            "99/99 [==============================] - 0s 4ms/step - loss: 1.0942 - wine_quality_loss: 1.0255 - wine_type_loss: 0.0687 - wine_quality_root_mean_squared_error: 1.0127 - wine_type_accuracy: 0.9899 - val_loss: 1.1351 - val_wine_quality_loss: 1.0646 - val_wine_type_loss: 0.0705 - val_wine_quality_root_mean_squared_error: 1.0318 - val_wine_type_accuracy: 0.9848\n",
            "Epoch 13/40\n",
            "99/99 [==============================] - 0s 5ms/step - loss: 1.0236 - wine_quality_loss: 0.9606 - wine_type_loss: 0.0630 - wine_quality_root_mean_squared_error: 0.9801 - wine_type_accuracy: 0.9902 - val_loss: 1.0748 - val_wine_quality_loss: 1.0090 - val_wine_type_loss: 0.0658 - val_wine_quality_root_mean_squared_error: 1.0045 - val_wine_type_accuracy: 0.9848\n",
            "Epoch 14/40\n",
            "99/99 [==============================] - 1s 5ms/step - loss: 0.9539 - wine_quality_loss: 0.8953 - wine_type_loss: 0.0585 - wine_quality_root_mean_squared_error: 0.9462 - wine_type_accuracy: 0.9908 - val_loss: 1.0005 - val_wine_quality_loss: 0.9386 - val_wine_type_loss: 0.0620 - val_wine_quality_root_mean_squared_error: 0.9688 - val_wine_type_accuracy: 0.9848\n",
            "Epoch 15/40\n",
            "99/99 [==============================] - 1s 5ms/step - loss: 0.8989 - wine_quality_loss: 0.8437 - wine_type_loss: 0.0552 - wine_quality_root_mean_squared_error: 0.9186 - wine_type_accuracy: 0.9911 - val_loss: 0.9464 - val_wine_quality_loss: 0.8871 - val_wine_type_loss: 0.0593 - val_wine_quality_root_mean_squared_error: 0.9418 - val_wine_type_accuracy: 0.9848\n",
            "Epoch 16/40\n",
            "99/99 [==============================] - 0s 5ms/step - loss: 0.8428 - wine_quality_loss: 0.7904 - wine_type_loss: 0.0524 - wine_quality_root_mean_squared_error: 0.8890 - wine_type_accuracy: 0.9911 - val_loss: 0.8992 - val_wine_quality_loss: 0.8424 - val_wine_type_loss: 0.0569 - val_wine_quality_root_mean_squared_error: 0.9178 - val_wine_type_accuracy: 0.9848\n",
            "Epoch 17/40\n",
            "99/99 [==============================] - 1s 6ms/step - loss: 0.7980 - wine_quality_loss: 0.7479 - wine_type_loss: 0.0500 - wine_quality_root_mean_squared_error: 0.8648 - wine_type_accuracy: 0.9908 - val_loss: 0.8402 - val_wine_quality_loss: 0.7851 - val_wine_type_loss: 0.0551 - val_wine_quality_root_mean_squared_error: 0.8861 - val_wine_type_accuracy: 0.9848\n",
            "Epoch 18/40\n",
            "99/99 [==============================] - 0s 4ms/step - loss: 0.7475 - wine_quality_loss: 0.6996 - wine_type_loss: 0.0480 - wine_quality_root_mean_squared_error: 0.8364 - wine_type_accuracy: 0.9911 - val_loss: 0.8076 - val_wine_quality_loss: 0.7541 - val_wine_type_loss: 0.0535 - val_wine_quality_root_mean_squared_error: 0.8684 - val_wine_type_accuracy: 0.9848\n",
            "Epoch 19/40\n",
            "99/99 [==============================] - 1s 5ms/step - loss: 0.7073 - wine_quality_loss: 0.6608 - wine_type_loss: 0.0465 - wine_quality_root_mean_squared_error: 0.8129 - wine_type_accuracy: 0.9914 - val_loss: 0.7594 - val_wine_quality_loss: 0.7070 - val_wine_type_loss: 0.0524 - val_wine_quality_root_mean_squared_error: 0.8409 - val_wine_type_accuracy: 0.9861\n",
            "Epoch 20/40\n",
            "99/99 [==============================] - 0s 3ms/step - loss: 0.6681 - wine_quality_loss: 0.6231 - wine_type_loss: 0.0450 - wine_quality_root_mean_squared_error: 0.7894 - wine_type_accuracy: 0.9918 - val_loss: 0.7179 - val_wine_quality_loss: 0.6665 - val_wine_type_loss: 0.0514 - val_wine_quality_root_mean_squared_error: 0.8164 - val_wine_type_accuracy: 0.9886\n",
            "Epoch 21/40\n",
            "99/99 [==============================] - 0s 3ms/step - loss: 0.6339 - wine_quality_loss: 0.5902 - wine_type_loss: 0.0437 - wine_quality_root_mean_squared_error: 0.7682 - wine_type_accuracy: 0.9924 - val_loss: 0.6938 - val_wine_quality_loss: 0.6436 - val_wine_type_loss: 0.0502 - val_wine_quality_root_mean_squared_error: 0.8022 - val_wine_type_accuracy: 0.9886\n",
            "Epoch 22/40\n",
            "99/99 [==============================] - 0s 3ms/step - loss: 0.6030 - wine_quality_loss: 0.5603 - wine_type_loss: 0.0427 - wine_quality_root_mean_squared_error: 0.7485 - wine_type_accuracy: 0.9927 - val_loss: 0.6516 - val_wine_quality_loss: 0.6022 - val_wine_type_loss: 0.0494 - val_wine_quality_root_mean_squared_error: 0.7760 - val_wine_type_accuracy: 0.9886\n",
            "Epoch 23/40\n",
            "99/99 [==============================] - 0s 3ms/step - loss: 0.5712 - wine_quality_loss: 0.5297 - wine_type_loss: 0.0416 - wine_quality_root_mean_squared_error: 0.7278 - wine_type_accuracy: 0.9927 - val_loss: 0.6377 - val_wine_quality_loss: 0.5892 - val_wine_type_loss: 0.0485 - val_wine_quality_root_mean_squared_error: 0.7676 - val_wine_type_accuracy: 0.9886\n",
            "Epoch 24/40\n",
            "99/99 [==============================] - 0s 3ms/step - loss: 0.5474 - wine_quality_loss: 0.5068 - wine_type_loss: 0.0406 - wine_quality_root_mean_squared_error: 0.7119 - wine_type_accuracy: 0.9930 - val_loss: 0.6003 - val_wine_quality_loss: 0.5523 - val_wine_type_loss: 0.0480 - val_wine_quality_root_mean_squared_error: 0.7432 - val_wine_type_accuracy: 0.9886\n",
            "Epoch 25/40\n",
            "99/99 [==============================] - 0s 3ms/step - loss: 0.5228 - wine_quality_loss: 0.4830 - wine_type_loss: 0.0398 - wine_quality_root_mean_squared_error: 0.6950 - wine_type_accuracy: 0.9933 - val_loss: 0.5952 - val_wine_quality_loss: 0.5481 - val_wine_type_loss: 0.0471 - val_wine_quality_root_mean_squared_error: 0.7404 - val_wine_type_accuracy: 0.9886\n",
            "Epoch 26/40\n",
            "99/99 [==============================] - 0s 3ms/step - loss: 0.5015 - wine_quality_loss: 0.4624 - wine_type_loss: 0.0390 - wine_quality_root_mean_squared_error: 0.6800 - wine_type_accuracy: 0.9937 - val_loss: 0.5635 - val_wine_quality_loss: 0.5168 - val_wine_type_loss: 0.0467 - val_wine_quality_root_mean_squared_error: 0.7189 - val_wine_type_accuracy: 0.9886\n",
            "Epoch 27/40\n",
            "99/99 [==============================] - 0s 3ms/step - loss: 0.4834 - wine_quality_loss: 0.4451 - wine_type_loss: 0.0383 - wine_quality_root_mean_squared_error: 0.6672 - wine_type_accuracy: 0.9937 - val_loss: 0.5411 - val_wine_quality_loss: 0.4948 - val_wine_type_loss: 0.0463 - val_wine_quality_root_mean_squared_error: 0.7034 - val_wine_type_accuracy: 0.9899\n",
            "Epoch 28/40\n",
            "99/99 [==============================] - 0s 3ms/step - loss: 0.4663 - wine_quality_loss: 0.4286 - wine_type_loss: 0.0376 - wine_quality_root_mean_squared_error: 0.6547 - wine_type_accuracy: 0.9946 - val_loss: 0.5251 - val_wine_quality_loss: 0.4793 - val_wine_type_loss: 0.0458 - val_wine_quality_root_mean_squared_error: 0.6923 - val_wine_type_accuracy: 0.9899\n",
            "Epoch 29/40\n",
            "99/99 [==============================] - 0s 3ms/step - loss: 0.4492 - wine_quality_loss: 0.4122 - wine_type_loss: 0.0370 - wine_quality_root_mean_squared_error: 0.6420 - wine_type_accuracy: 0.9943 - val_loss: 0.5063 - val_wine_quality_loss: 0.4608 - val_wine_type_loss: 0.0455 - val_wine_quality_root_mean_squared_error: 0.6788 - val_wine_type_accuracy: 0.9899\n",
            "Epoch 30/40\n",
            "99/99 [==============================] - 0s 3ms/step - loss: 0.4368 - wine_quality_loss: 0.4003 - wine_type_loss: 0.0365 - wine_quality_root_mean_squared_error: 0.6327 - wine_type_accuracy: 0.9943 - val_loss: 0.5044 - val_wine_quality_loss: 0.4594 - val_wine_type_loss: 0.0450 - val_wine_quality_root_mean_squared_error: 0.6778 - val_wine_type_accuracy: 0.9899\n",
            "Epoch 31/40\n",
            "99/99 [==============================] - 0s 3ms/step - loss: 0.4264 - wine_quality_loss: 0.3906 - wine_type_loss: 0.0358 - wine_quality_root_mean_squared_error: 0.6250 - wine_type_accuracy: 0.9943 - val_loss: 0.4889 - val_wine_quality_loss: 0.4441 - val_wine_type_loss: 0.0448 - val_wine_quality_root_mean_squared_error: 0.6664 - val_wine_type_accuracy: 0.9899\n",
            "Epoch 32/40\n",
            "99/99 [==============================] - 0s 3ms/step - loss: 0.4156 - wine_quality_loss: 0.3803 - wine_type_loss: 0.0354 - wine_quality_root_mean_squared_error: 0.6167 - wine_type_accuracy: 0.9943 - val_loss: 0.4732 - val_wine_quality_loss: 0.4287 - val_wine_type_loss: 0.0445 - val_wine_quality_root_mean_squared_error: 0.6547 - val_wine_type_accuracy: 0.9899\n",
            "Epoch 33/40\n",
            "99/99 [==============================] - 0s 3ms/step - loss: 0.4049 - wine_quality_loss: 0.3699 - wine_type_loss: 0.0350 - wine_quality_root_mean_squared_error: 0.6082 - wine_type_accuracy: 0.9943 - val_loss: 0.4793 - val_wine_quality_loss: 0.4353 - val_wine_type_loss: 0.0440 - val_wine_quality_root_mean_squared_error: 0.6598 - val_wine_type_accuracy: 0.9899\n",
            "Epoch 34/40\n",
            "99/99 [==============================] - 0s 3ms/step - loss: 0.3972 - wine_quality_loss: 0.3627 - wine_type_loss: 0.0345 - wine_quality_root_mean_squared_error: 0.6022 - wine_type_accuracy: 0.9943 - val_loss: 0.4565 - val_wine_quality_loss: 0.4129 - val_wine_type_loss: 0.0436 - val_wine_quality_root_mean_squared_error: 0.6425 - val_wine_type_accuracy: 0.9899\n",
            "Epoch 35/40\n",
            "99/99 [==============================] - 0s 3ms/step - loss: 0.3894 - wine_quality_loss: 0.3553 - wine_type_loss: 0.0341 - wine_quality_root_mean_squared_error: 0.5961 - wine_type_accuracy: 0.9946 - val_loss: 0.4558 - val_wine_quality_loss: 0.4123 - val_wine_type_loss: 0.0434 - val_wine_quality_root_mean_squared_error: 0.6421 - val_wine_type_accuracy: 0.9899\n",
            "Epoch 36/40\n",
            "99/99 [==============================] - 0s 3ms/step - loss: 0.3824 - wine_quality_loss: 0.3488 - wine_type_loss: 0.0336 - wine_quality_root_mean_squared_error: 0.5906 - wine_type_accuracy: 0.9946 - val_loss: 0.4487 - val_wine_quality_loss: 0.4056 - val_wine_type_loss: 0.0431 - val_wine_quality_root_mean_squared_error: 0.6369 - val_wine_type_accuracy: 0.9899\n",
            "Epoch 37/40\n",
            "99/99 [==============================] - 0s 3ms/step - loss: 0.3777 - wine_quality_loss: 0.3445 - wine_type_loss: 0.0333 - wine_quality_root_mean_squared_error: 0.5869 - wine_type_accuracy: 0.9949 - val_loss: 0.4458 - val_wine_quality_loss: 0.4030 - val_wine_type_loss: 0.0428 - val_wine_quality_root_mean_squared_error: 0.6348 - val_wine_type_accuracy: 0.9899\n",
            "Epoch 38/40\n",
            "99/99 [==============================] - 0s 3ms/step - loss: 0.3726 - wine_quality_loss: 0.3397 - wine_type_loss: 0.0329 - wine_quality_root_mean_squared_error: 0.5828 - wine_type_accuracy: 0.9949 - val_loss: 0.4360 - val_wine_quality_loss: 0.3933 - val_wine_type_loss: 0.0426 - val_wine_quality_root_mean_squared_error: 0.6272 - val_wine_type_accuracy: 0.9899\n",
            "Epoch 39/40\n",
            "99/99 [==============================] - 0s 3ms/step - loss: 0.3671 - wine_quality_loss: 0.3346 - wine_type_loss: 0.0324 - wine_quality_root_mean_squared_error: 0.5785 - wine_type_accuracy: 0.9949 - val_loss: 0.4320 - val_wine_quality_loss: 0.3895 - val_wine_type_loss: 0.0424 - val_wine_quality_root_mean_squared_error: 0.6241 - val_wine_type_accuracy: 0.9899\n",
            "Epoch 40/40\n",
            "99/99 [==============================] - 0s 3ms/step - loss: 0.3632 - wine_quality_loss: 0.3311 - wine_type_loss: 0.0321 - wine_quality_root_mean_squared_error: 0.5754 - wine_type_accuracy: 0.9949 - val_loss: 0.4292 - val_wine_quality_loss: 0.3871 - val_wine_type_loss: 0.0421 - val_wine_quality_root_mean_squared_error: 0.6222 - val_wine_type_accuracy: 0.9899\n"
          ]
        }
      ],
      "source": [
        "history = model.fit(norm_train_X, train_Y,\n",
        "                    epochs = 40, validation_data=(norm_val_X, val_Y))"
      ]
    },
    {
      "cell_type": "code",
      "execution_count": null,
      "metadata": {
        "colab": {
          "base_uri": "https://localhost:8080/"
        },
        "id": "CubF2J2gSf6q",
        "outputId": "33694f35-1700-42df-a189-749d4a4d503c"
      },
      "outputs": [
        {
          "output_type": "stream",
          "name": "stdout",
          "text": [
            "25/25 [==============================] - 0s 2ms/step - loss: 0.4292 - wine_quality_loss: 0.3871 - wine_type_loss: 0.0421 - wine_quality_root_mean_squared_error: 0.6222 - wine_type_accuracy: 0.9899\n",
            "\n",
            "loss: 0.4291943311691284\n",
            "wine_quality_loss: 0.3871428668498993\n",
            "wine_type_loss: 0.042051516473293304\n",
            "wine_quality_rmse: 0.6222080588340759\n",
            "wine_type_accuracy: 0.9898605942726135\n"
          ]
        }
      ],
      "source": [
        "# Gather the training metrics\n",
        "loss, wine_quality_loss, wine_type_loss, wine_quality_rmse, wine_type_accuracy = model.evaluate(x=norm_val_X, y=val_Y)\n",
        "\n",
        "print()\n",
        "print(f'loss: {loss}')\n",
        "print(f'wine_quality_loss: {wine_quality_loss}')\n",
        "print(f'wine_type_loss: {wine_type_loss}')\n",
        "print(f'wine_quality_rmse: {wine_quality_rmse}')\n",
        "print(f'wine_type_accuracy: {wine_type_accuracy}')\n"
      ]
    },
    {
      "cell_type": "markdown",
      "metadata": {
        "id": "gPtTGAP4usnm"
      },
      "source": [
        "## Analyze the Model Performance\n",
        "\n",
        "Note that the model has two outputs. The output at index 0 is quality and index 1 is wine type\n",
        "\n",
        "So, round the quality predictions to the nearest integer."
      ]
    },
    {
      "cell_type": "code",
      "execution_count": null,
      "metadata": {
        "colab": {
          "base_uri": "https://localhost:8080/"
        },
        "id": "tBq9PEeAaW-Y",
        "outputId": "a2f281be-f120-4542-c3a6-1d0e9a7a1249"
      },
      "outputs": [
        {
          "output_type": "stream",
          "name": "stdout",
          "text": [
            "31/31 [==============================] - 0s 2ms/step\n"
          ]
        }
      ],
      "source": [
        "predictions = model.predict(norm_test_X)\n",
        "quality_pred = predictions[0]\n",
        "type_pred = predictions[1]"
      ]
    },
    {
      "cell_type": "code",
      "execution_count": null,
      "metadata": {
        "colab": {
          "base_uri": "https://localhost:8080/"
        },
        "id": "YLhgTR4xTIxj",
        "outputId": "a36aa379-9549-41be-b2b0-85b15b1582b1"
      },
      "outputs": [
        {
          "output_type": "stream",
          "name": "stdout",
          "text": [
            "[6.674028]\n"
          ]
        }
      ],
      "source": [
        "print(quality_pred[0])"
      ]
    },
    {
      "cell_type": "markdown",
      "metadata": {
        "id": "Kohk-9C6vt_s"
      },
      "source": [
        "### Plot Utilities\n",
        "\n",
        "We define a few utilities to visualize the model performance."
      ]
    },
    {
      "cell_type": "code",
      "execution_count": null,
      "metadata": {
        "id": "62gEOFUhn6aQ"
      },
      "outputs": [],
      "source": [
        "def plot_metrics(metric_name, title, ylim=5):\n",
        "    plt.title(title)\n",
        "    plt.ylim(0,ylim)\n",
        "    plt.plot(history.history[metric_name],color='blue',label=metric_name)\n",
        "    plt.plot(history.history['val_' + metric_name],color='green',label='val_' + metric_name)\n"
      ]
    },
    {
      "cell_type": "code",
      "execution_count": null,
      "metadata": {
        "id": "6rfgSx7uz5dj"
      },
      "outputs": [],
      "source": [
        "def plot_confusion_matrix(y_true, y_pred, title='', labels=[0,1]):\n",
        "    cm = confusion_matrix(y_true, y_pred)\n",
        "    fig = plt.figure()\n",
        "    ax = fig.add_subplot(111)\n",
        "    cax = ax.matshow(cm)\n",
        "    plt.title('Confusion matrix of the classifier')\n",
        "    fig.colorbar(cax)\n",
        "    ax.set_xticklabels([''] + labels)\n",
        "    ax.set_yticklabels([''] + labels)\n",
        "    plt.xlabel('Predicted')\n",
        "    plt.ylabel('True')\n",
        "    fmt = 'd'\n",
        "    thresh = cm.max() / 2.\n",
        "    for i, j in itertools.product(range(cm.shape[0]), range(cm.shape[1])):\n",
        "          plt.text(j, i, format(cm[i, j], fmt),\n",
        "                  horizontalalignment=\"center\",\n",
        "                  color=\"black\" if cm[i, j] > thresh else \"white\")\n",
        "    plt.show()"
      ]
    },
    {
      "cell_type": "code",
      "execution_count": null,
      "metadata": {
        "id": "dfVLIqi017Vf"
      },
      "outputs": [],
      "source": [
        "def plot_diff(y_true, y_pred, title = '' ):\n",
        "    plt.scatter(y_true, y_pred)\n",
        "    plt.title(title)\n",
        "    plt.xlabel('True Values')\n",
        "    plt.ylabel('Predictions')\n",
        "    plt.axis('equal')\n",
        "    plt.axis('square')\n",
        "    plt.plot([-100, 100], [-100, 100])\n",
        "    return plt"
      ]
    },
    {
      "cell_type": "markdown",
      "metadata": {
        "id": "8sd1jdFbwE0I"
      },
      "source": [
        "### Plots for Metrics"
      ]
    },
    {
      "cell_type": "code",
      "execution_count": null,
      "metadata": {
        "colab": {
          "base_uri": "https://localhost:8080/",
          "height": 281
        },
        "id": "f3MwZ5J1pOfj",
        "outputId": "98adb623-4f9c-4d81-b826-bfac801cb3e8"
      },
      "outputs": [
        {
          "output_type": "display_data",
          "data": {
            "text/plain": [
              "<Figure size 432x288 with 1 Axes>"
            ],
            "image/png": "[encoded data removed]"
          },
          "metadata": {
            "needs_background": "light"
          }
        }
      ],
      "source": [
        "plot_metrics('wine_quality_root_mean_squared_error', 'RMSE', ylim=2)"
      ]
    },
    {
      "cell_type": "code",
      "execution_count": null,
      "metadata": {
        "colab": {
          "base_uri": "https://localhost:8080/",
          "height": 281
        },
        "id": "QIAxEezCppnd",
        "outputId": "5eef3397-eaf4-4d90-ce10-2c678906325e"
      },
      "outputs": [
        {
          "output_type": "display_data",
          "data": {
            "text/plain": [
              "<Figure size 432x288 with 1 Axes>"
            ],
            "image/png": "[encoded data removed]"
          },
          "metadata": {
            "needs_background": "light"
          }
        }
      ],
      "source": [
        "plot_metrics('wine_type_loss', 'Wine Type Loss', ylim=0.2)"
      ]
    },
    {
      "cell_type": "markdown",
      "metadata": {
        "id": "uYV9AOAMwI9p"
      },
      "source": [
        "### Plots for Confusion Matrix\n",
        "\n",
        "Plotting the confusion matrices for wine type. WE can see that the model performs well for prediction of wine type from the confusion matrix and the loss metrics."
      ]
    },
    {
      "cell_type": "code",
      "execution_count": null,
      "metadata": {
        "colab": {
          "base_uri": "https://localhost:8080/",
          "height": 368
        },
        "id": "C3hvTYxIaf3n",
        "outputId": "c8778c7d-4d58-46a4-bd3e-eee3db6e2823"
      },
      "outputs": [
        {
          "output_type": "stream",
          "name": "stderr",
          "text": [
            "<ipython-input-26-47bb6e202cb0>:8: UserWarning: FixedFormatter should only be used together with FixedLocator\n",
            "  ax.set_xticklabels([''] + labels)\n",
            "<ipython-input-26-47bb6e202cb0>:9: UserWarning: FixedFormatter should only be used together with FixedLocator\n",
            "  ax.set_yticklabels([''] + labels)\n"
          ]
        },
        {
          "output_type": "display_data",
          "data": {
            "text/plain": [
              "<Figure size 432x288 with 2 Axes>"
            ],
            "image/png": "[encoded data removed]"
          },
          "metadata": {
            "needs_background": "light"
          }
        }
      ],
      "source": [
        "plot_confusion_matrix(test_Y[1], np.round(type_pred), title='Wine Type', labels = [0, 1])"
      ]
    },
    {
      "cell_type": "code",
      "execution_count": null,
      "metadata": {
        "colab": {
          "base_uri": "https://localhost:8080/",
          "height": 295
        },
        "id": "GW91ym8P2I5y",
        "outputId": "289b63f9-feb5-4980-9eec-bcf4ea001784"
      },
      "outputs": [
        {
          "output_type": "display_data",
          "data": {
            "text/plain": [
              "<Figure size 432x288 with 1 Axes>"
            ],
            "image/png": "[encoded data removed]"
          },
          "metadata": {
            "needs_background": "light"
          }
        }
      ],
      "source": [
        "scatter_plot = plot_diff(test_Y[0], quality_pred, title='Type')"
      ]
    }
  ],
  "metadata": {
    "colab": {
      "provenance": [],
      "include_colab_link": true
    },
    "kernelspec": {
      "display_name": "Python 3",
      "language": "python",
      "name": "python3"
    },
    "language_info": {
      "codemirror_mode": {
        "name": "ipython",
        "version": 3
      },
      "file_extension": ".py",
      "mimetype": "text/x-python",
      "name": "python",
      "nbconvert_exporter": "python",
      "pygments_lexer": "ipython3",
      "version": "3.7.6"
    }
  },
  "nbformat": 4,
  "nbformat_minor": 0
}