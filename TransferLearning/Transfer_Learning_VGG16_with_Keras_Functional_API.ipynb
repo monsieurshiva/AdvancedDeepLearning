{
  "nbformat": 4,
  "nbformat_minor": 0,
  "metadata": {
    "colab": {
      "provenance": [],
      "machine_shape": "hm",
      "include_colab_link": true
    },
    "kernelspec": {
      "display_name": "Python 3",
      "name": "python3"
    },
    "accelerator": "GPU",
    "language_info": {
      "name": "python"
    },
    "gpuClass": "standard"
  },
  "cells": [
    {
      "cell_type": "markdown",
      "metadata": {
        "id": "view-in-github",
        "colab_type": "text"
      },
      "source": [
        "<a href=\"https://colab.research.google.com/github/monsieurshiva/AdvancedDeepLearning/blob/main/TransferLearning/Transfer_Learning_VGG16_with_Keras_Functional_API.ipynb\" target=\"_parent\"><img src=\"https://colab.research.google.com/assets/colab-badge.svg\" alt=\"Open In Colab\"/></a>"
      ]
    },
    {
      "cell_type": "markdown",
      "source": [
        "# Transfer Learning VGG16 with Keras Functional API\n",
        "\n",
        "The Aarhus University Signal Processing group, in collaboration with University of Southern Denmark, has recently released a dataset containing images of approximately 960 unique plants belonging to 12 species at several growth stages. We will create a transfer learning model to identify image classes.\n",
        "\n",
        "For this we will use the **[Plant Seedlings Dataset](https://www.kaggle.com/competitions/plant-seedlings-classification/data)** from **Kaggle**."
      ],
      "metadata": {
        "id": "XMd-RVB1Yj5P"
      }
    },
    {
      "cell_type": "markdown",
      "source": [
        "## Imports"
      ],
      "metadata": {
        "id": "da227D_6yVUy"
      }
    },
    {
      "metadata": {
        "id": "gF5meo6Pnd-y",
        "colab": {
          "base_uri": "https://localhost:8080/"
        },
        "outputId": "32b1a12c-ae59-4750-9504-187227966a5b"
      },
      "cell_type": "code",
      "source": [
        "from google.colab import drive\n",
        "drive.mount('/content/drive/')"
      ],
      "execution_count": 1,
      "outputs": [
        {
          "output_type": "stream",
          "name": "stdout",
          "text": [
            "Drive already mounted at /content/drive/; to attempt to forcibly remount, call drive.mount(\"/content/drive/\", force_remount=True).\n"
          ]
        }
      ]
    },
    {
      "metadata": {
        "id": "ns_Srgn5vLp9"
      },
      "cell_type": "code",
      "source": [
        "import os\n",
        "import cv2\n",
        "import pandas as pd\n",
        "import numpy as np\n",
        "import matplotlib.pyplot as plt\n",
        "from sklearn.model_selection import train_test_split\n",
        "from sklearn import metrics\n",
        "from tensorflow.keras import applications\n",
        "from tensorflow.keras.optimizers import SGD\n",
        "from tensorflow import keras\n",
        "from keras.models import Sequential, Model \n",
        "from keras.layers import Dropout, Flatten, Dense\n",
        "from keras import backend as K \n",
        "from keras.callbacks import ModelCheckpoint, EarlyStopping\n",
        "from google.colab.patches import cv2_imshow"
      ],
      "execution_count": 2,
      "outputs": []
    },
    {
      "cell_type": "markdown",
      "source": [
        "## Load Dataset"
      ],
      "metadata": {
        "id": "q8DVwdjqzW7I"
      }
    },
    {
      "metadata": {
        "id": "zrEWFArOqFXs"
      },
      "cell_type": "code",
      "source": [
        "os.chdir('/content/drive/MyDrive/GL/Fourth Sem/Advanced DL/Session 1 and 2/train')"
      ],
      "execution_count": 3,
      "outputs": []
    },
    {
      "metadata": {
        "id": "PfhxmZSxqNeg",
        "colab": {
          "base_uri": "https://localhost:8080/"
        },
        "outputId": "19ece936-0eac-4aa5-db03-aa4ca56088eb"
      },
      "cell_type": "code",
      "source": [
        "Label_names=os.listdir()\n",
        "Label_names"
      ],
      "execution_count": 4,
      "outputs": [
        {
          "output_type": "execute_result",
          "data": {
            "text/plain": [
              "['Black-grass',\n",
              " 'Charlock',\n",
              " 'Cleavers',\n",
              " 'Common Chickweed',\n",
              " 'Common wheat',\n",
              " 'Fat Hen',\n",
              " 'Loose Silky-bent',\n",
              " 'Maize',\n",
              " 'Scentless Mayweed',\n",
              " 'Shepherds Purse',\n",
              " 'Small-flowered Cranesbill',\n",
              " 'Sugar beet']"
            ]
          },
          "metadata": {},
          "execution_count": 4
        }
      ]
    },
    {
      "cell_type": "markdown",
      "source": [
        "## Train Test Split"
      ],
      "metadata": {
        "id": "UBNYamBk8UPA"
      }
    },
    {
      "metadata": {
        "id": "8BYcVPZUqOMi",
        "outputId": "22981c16-9462-4b9a-8710-a18309873d1e",
        "colab": {
          "base_uri": "https://localhost:8080/"
        }
      },
      "cell_type": "code",
      "source": [
        "x_train = []\n",
        "y_train = []\n",
        "for i in os.listdir():\n",
        "    print(i)\n",
        "    if (os.path.isdir(i)):  #checking valid folder or not\n",
        "            for j in os.listdir(i):\n",
        "                try:\n",
        "                    dummy = cv2.imread('/content/drive/MyDrive/GL/Fourth Sem/Advanced DL/Session 1 and 2/train/' + i + \"/\" + j)\n",
        "                    dummy = cv2.resize(dummy,(128,128))\n",
        "                    x_train.append(dummy)\n",
        "                    y_train.append(i)\n",
        "                except Exception as e:\n",
        "                    print(e)\n"
      ],
      "execution_count": 5,
      "outputs": [
        {
          "output_type": "stream",
          "name": "stdout",
          "text": [
            "Black-grass\n",
            "Charlock\n",
            "Cleavers\n",
            "Common Chickweed\n",
            "Common wheat\n",
            "Fat Hen\n",
            "Loose Silky-bent\n",
            "Maize\n",
            "Scentless Mayweed\n",
            "Shepherds Purse\n",
            "Small-flowered Cranesbill\n",
            "Sugar beet\n"
          ]
        }
      ]
    },
    {
      "metadata": {
        "id": "jX9jD090uIxX"
      },
      "cell_type": "code",
      "source": [
        "dum = pd.get_dummies(y_train)\n",
        "y_train = dum\n",
        "y_train = np.array(y_train)"
      ],
      "execution_count": 6,
      "outputs": []
    },
    {
      "metadata": {
        "id": "2LniWcretNjt"
      },
      "cell_type": "code",
      "source": [
        "x_train = np.array(x_train)\n"
      ],
      "execution_count": 7,
      "outputs": []
    },
    {
      "metadata": {
        "id": "yW1MRzNzscJD",
        "colab": {
          "base_uri": "https://localhost:8080/"
        },
        "outputId": "3660fddc-551d-499e-d530-85ad1b3dd2f9"
      },
      "cell_type": "code",
      "source": [
        "x_train2, x_val, y_train2, y_val = train_test_split(x_train, y_train, test_size=0.2, random_state=2)\n",
        "print (len(x_train2))\n",
        "print (len(x_val))"
      ],
      "execution_count": 8,
      "outputs": [
        {
          "output_type": "stream",
          "name": "stdout",
          "text": [
            "3800\n",
            "950\n"
          ]
        }
      ]
    },
    {
      "metadata": {
        "id": "RGjH72OuCfeY"
      },
      "cell_type": "code",
      "source": [
        "#Normalize the data\n",
        "x_train2 = x_train2/255.\n",
        "x_val = x_val/255."
      ],
      "execution_count": 9,
      "outputs": []
    },
    {
      "cell_type": "markdown",
      "source": [
        "##Define the Model"
      ],
      "metadata": {
        "id": "sljrgIjJ8g0f"
      }
    },
    {
      "metadata": {
        "id": "BIB_XcqbFw0F"
      },
      "cell_type": "code",
      "source": [
        "model = applications.VGG16(weights = \"imagenet\", include_top=False, input_shape = (128, 128, 3))"
      ],
      "execution_count": 10,
      "outputs": []
    },
    {
      "metadata": {
        "id": "JSYa2I84Fw2v"
      },
      "cell_type": "code",
      "source": [
        "# Freeze the layers which you don't want to train. In this we are freezing the first 10 layers.\n",
        "for layer in model.layers[:10]:\n",
        "    layer.trainable = False\n",
        "\n",
        "#Adding custom Layers \n",
        "x = model.output\n",
        "x = Flatten()(x)\n",
        "x = Dense(1024, activation=\"relu\")(x)\n",
        "x = Dropout(0.5)(x)\n",
        "x = Dense(64, activation=\"relu\")(x)\n",
        "x = Dense(32, activation=\"relu\")(x)\n",
        "predictions = Dense(12, activation=\"softmax\")(x)\n",
        "\n",
        "# creating the final model \n",
        "model_final = Model(model.input,predictions)\n",
        "\n",
        "# compile the model \n",
        "model_final.compile(loss = \"categorical_crossentropy\", optimizer ='SGD', metrics=[\"accuracy\"])\n"
      ],
      "execution_count": 11,
      "outputs": []
    },
    {
      "cell_type": "code",
      "source": [
        "model_final.summary()"
      ],
      "metadata": {
        "colab": {
          "base_uri": "https://localhost:8080/"
        },
        "id": "LcFljYdhVwv9",
        "outputId": "2e99bdd8-3a2d-4193-aeb6-7c4593ff05bd"
      },
      "execution_count": 12,
      "outputs": [
        {
          "output_type": "stream",
          "name": "stdout",
          "text": [
            "Model: \"model\"\n",
            "_________________________________________________________________\n",
            " Layer (type)                Output Shape              Param #   \n",
            "=================================================================\n",
            " input_1 (InputLayer)        [(None, 128, 128, 3)]     0         \n",
            "                                                                 \n",
            " block1_conv1 (Conv2D)       (None, 128, 128, 64)      1792      \n",
            "                                                                 \n",
            " block1_conv2 (Conv2D)       (None, 128, 128, 64)      36928     \n",
            "                                                                 \n",
            " block1_pool (MaxPooling2D)  (None, 64, 64, 64)        0         \n",
            "                                                                 \n",
            " block2_conv1 (Conv2D)       (None, 64, 64, 128)       73856     \n",
            "                                                                 \n",
            " block2_conv2 (Conv2D)       (None, 64, 64, 128)       147584    \n",
            "                                                                 \n",
            " block2_pool (MaxPooling2D)  (None, 32, 32, 128)       0         \n",
            "                                                                 \n",
            " block3_conv1 (Conv2D)       (None, 32, 32, 256)       295168    \n",
            "                                                                 \n",
            " block3_conv2 (Conv2D)       (None, 32, 32, 256)       590080    \n",
            "                                                                 \n",
            " block3_conv3 (Conv2D)       (None, 32, 32, 256)       590080    \n",
            "                                                                 \n",
            " block3_pool (MaxPooling2D)  (None, 16, 16, 256)       0         \n",
            "                                                                 \n",
            " block4_conv1 (Conv2D)       (None, 16, 16, 512)       1180160   \n",
            "                                                                 \n",
            " block4_conv2 (Conv2D)       (None, 16, 16, 512)       2359808   \n",
            "                                                                 \n",
            " block4_conv3 (Conv2D)       (None, 16, 16, 512)       2359808   \n",
            "                                                                 \n",
            " block4_pool (MaxPooling2D)  (None, 8, 8, 512)         0         \n",
            "                                                                 \n",
            " block5_conv1 (Conv2D)       (None, 8, 8, 512)         2359808   \n",
            "                                                                 \n",
            " block5_conv2 (Conv2D)       (None, 8, 8, 512)         2359808   \n",
            "                                                                 \n",
            " block5_conv3 (Conv2D)       (None, 8, 8, 512)         2359808   \n",
            "                                                                 \n",
            " block5_pool (MaxPooling2D)  (None, 4, 4, 512)         0         \n",
            "                                                                 \n",
            " flatten (Flatten)           (None, 8192)              0         \n",
            "                                                                 \n",
            " dense (Dense)               (None, 1024)              8389632   \n",
            "                                                                 \n",
            " dropout (Dropout)           (None, 1024)              0         \n",
            "                                                                 \n",
            " dense_1 (Dense)             (None, 64)                65600     \n",
            "                                                                 \n",
            " dense_2 (Dense)             (None, 32)                2080      \n",
            "                                                                 \n",
            " dense_3 (Dense)             (None, 12)                396       \n",
            "                                                                 \n",
            "=================================================================\n",
            "Total params: 23,172,396\n",
            "Trainable params: 21,436,908\n",
            "Non-trainable params: 1,735,488\n",
            "_________________________________________________________________\n"
          ]
        }
      ]
    },
    {
      "metadata": {
        "id": "k50K_p9xFw8l",
        "outputId": "18a40da5-6bb5-48e5-b6af-c9eff8f4d539",
        "colab": {
          "base_uri": "https://localhost:8080/"
        }
      },
      "cell_type": "code",
      "source": [
        "# Save the model \n",
        "checkpoint = ModelCheckpoint(\"/content/drive/My Drive/DL/vgg16_best5.h5\", monitor='accuracy', verbose=1, save_best_only=True, mode='auto')\n",
        "early = EarlyStopping(monitor='accuracy', min_delta=0, patience=5, verbose=1, mode='auto')\n",
        "#an absolute change of less than min_delta , will count as no improvement (threshold value)\n",
        "epochs=20\n",
        "# Train the model \n",
        "model_final.fit(x_train2, y_train2, epochs = epochs, validation_data=(x_val, y_val), callbacks = [checkpoint, early])"
      ],
      "execution_count": 13,
      "outputs": [
        {
          "output_type": "stream",
          "name": "stdout",
          "text": [
            "Epoch 1/20\n",
            "119/119 [==============================] - ETA: 0s - loss: 2.3473 - accuracy: 0.1813\n",
            "Epoch 1: accuracy improved from -inf to 0.18132, saving model to /content/drive/My Drive/DL/vgg16_best5.h5\n",
            "119/119 [==============================] - 24s 121ms/step - loss: 2.3473 - accuracy: 0.1813 - val_loss: 2.1693 - val_accuracy: 0.2221\n",
            "Epoch 2/20\n",
            "119/119 [==============================] - ETA: 0s - loss: 1.9609 - accuracy: 0.3387\n",
            "Epoch 2: accuracy improved from 0.18132 to 0.33868, saving model to /content/drive/My Drive/DL/vgg16_best5.h5\n",
            "119/119 [==============================] - 12s 103ms/step - loss: 1.9609 - accuracy: 0.3387 - val_loss: 1.6159 - val_accuracy: 0.4242\n",
            "Epoch 3/20\n",
            "119/119 [==============================] - ETA: 0s - loss: 1.5865 - accuracy: 0.4550\n",
            "Epoch 3: accuracy improved from 0.33868 to 0.45500, saving model to /content/drive/My Drive/DL/vgg16_best5.h5\n",
            "119/119 [==============================] - 11s 92ms/step - loss: 1.5865 - accuracy: 0.4550 - val_loss: 1.3900 - val_accuracy: 0.4895\n",
            "Epoch 4/20\n",
            "119/119 [==============================] - ETA: 0s - loss: 1.3142 - accuracy: 0.5597\n",
            "Epoch 4: accuracy improved from 0.45500 to 0.55974, saving model to /content/drive/My Drive/DL/vgg16_best5.h5\n",
            "119/119 [==============================] - 11s 94ms/step - loss: 1.3142 - accuracy: 0.5597 - val_loss: 1.0822 - val_accuracy: 0.6442\n",
            "Epoch 5/20\n",
            "119/119 [==============================] - ETA: 0s - loss: 0.9900 - accuracy: 0.6666\n",
            "Epoch 5: accuracy improved from 0.55974 to 0.66658, saving model to /content/drive/My Drive/DL/vgg16_best5.h5\n",
            "119/119 [==============================] - 11s 93ms/step - loss: 0.9900 - accuracy: 0.6666 - val_loss: 0.7425 - val_accuracy: 0.7147\n",
            "Epoch 6/20\n",
            "119/119 [==============================] - ETA: 0s - loss: 0.7864 - accuracy: 0.7339\n",
            "Epoch 6: accuracy improved from 0.66658 to 0.73395, saving model to /content/drive/My Drive/DL/vgg16_best5.h5\n",
            "119/119 [==============================] - 11s 91ms/step - loss: 0.7864 - accuracy: 0.7339 - val_loss: 0.7897 - val_accuracy: 0.7042\n",
            "Epoch 7/20\n",
            "119/119 [==============================] - ETA: 0s - loss: 0.5903 - accuracy: 0.7945\n",
            "Epoch 7: accuracy improved from 0.73395 to 0.79447, saving model to /content/drive/My Drive/DL/vgg16_best5.h5\n",
            "119/119 [==============================] - 11s 91ms/step - loss: 0.5903 - accuracy: 0.7945 - val_loss: 0.7015 - val_accuracy: 0.7589\n",
            "Epoch 8/20\n",
            "119/119 [==============================] - ETA: 0s - loss: 0.5685 - accuracy: 0.8105\n",
            "Epoch 8: accuracy improved from 0.79447 to 0.81053, saving model to /content/drive/My Drive/DL/vgg16_best5.h5\n",
            "119/119 [==============================] - 11s 89ms/step - loss: 0.5685 - accuracy: 0.8105 - val_loss: 0.6124 - val_accuracy: 0.7874\n",
            "Epoch 9/20\n",
            "119/119 [==============================] - ETA: 0s - loss: 0.4230 - accuracy: 0.8511\n",
            "Epoch 9: accuracy improved from 0.81053 to 0.85105, saving model to /content/drive/My Drive/DL/vgg16_best5.h5\n",
            "119/119 [==============================] - 11s 91ms/step - loss: 0.4230 - accuracy: 0.8511 - val_loss: 0.9400 - val_accuracy: 0.6989\n",
            "Epoch 10/20\n",
            "119/119 [==============================] - ETA: 0s - loss: 0.4511 - accuracy: 0.8600\n",
            "Epoch 10: accuracy improved from 0.85105 to 0.86000, saving model to /content/drive/My Drive/DL/vgg16_best5.h5\n",
            "119/119 [==============================] - 12s 101ms/step - loss: 0.4511 - accuracy: 0.8600 - val_loss: 0.4777 - val_accuracy: 0.8284\n",
            "Epoch 11/20\n",
            "119/119 [==============================] - ETA: 0s - loss: 0.3197 - accuracy: 0.8908\n",
            "Epoch 11: accuracy improved from 0.86000 to 0.89079, saving model to /content/drive/My Drive/DL/vgg16_best5.h5\n",
            "119/119 [==============================] - 12s 101ms/step - loss: 0.3197 - accuracy: 0.8908 - val_loss: 0.4310 - val_accuracy: 0.8484\n",
            "Epoch 12/20\n",
            "119/119 [==============================] - ETA: 0s - loss: 0.2773 - accuracy: 0.9061\n",
            "Epoch 12: accuracy improved from 0.89079 to 0.90605, saving model to /content/drive/My Drive/DL/vgg16_best5.h5\n",
            "119/119 [==============================] - 12s 104ms/step - loss: 0.2773 - accuracy: 0.9061 - val_loss: 0.8898 - val_accuracy: 0.7158\n",
            "Epoch 13/20\n",
            "119/119 [==============================] - ETA: 0s - loss: 0.2280 - accuracy: 0.9216\n",
            "Epoch 13: accuracy improved from 0.90605 to 0.92158, saving model to /content/drive/My Drive/DL/vgg16_best5.h5\n",
            "119/119 [==============================] - 11s 93ms/step - loss: 0.2280 - accuracy: 0.9216 - val_loss: 0.3408 - val_accuracy: 0.8884\n",
            "Epoch 14/20\n",
            "119/119 [==============================] - ETA: 0s - loss: 0.1988 - accuracy: 0.9411\n",
            "Epoch 14: accuracy improved from 0.92158 to 0.94105, saving model to /content/drive/My Drive/DL/vgg16_best5.h5\n",
            "119/119 [==============================] - 11s 90ms/step - loss: 0.1988 - accuracy: 0.9411 - val_loss: 0.4016 - val_accuracy: 0.8800\n",
            "Epoch 15/20\n",
            "119/119 [==============================] - ETA: 0s - loss: 0.1647 - accuracy: 0.9413\n",
            "Epoch 15: accuracy improved from 0.94105 to 0.94132, saving model to /content/drive/My Drive/DL/vgg16_best5.h5\n",
            "119/119 [==============================] - 11s 91ms/step - loss: 0.1647 - accuracy: 0.9413 - val_loss: 0.3596 - val_accuracy: 0.8947\n",
            "Epoch 16/20\n",
            "119/119 [==============================] - ETA: 0s - loss: 0.1324 - accuracy: 0.9597\n",
            "Epoch 16: accuracy improved from 0.94132 to 0.95974, saving model to /content/drive/My Drive/DL/vgg16_best5.h5\n",
            "119/119 [==============================] - 11s 91ms/step - loss: 0.1324 - accuracy: 0.9597 - val_loss: 0.3907 - val_accuracy: 0.8905\n",
            "Epoch 17/20\n",
            "119/119 [==============================] - ETA: 0s - loss: 0.2719 - accuracy: 0.9192\n",
            "Epoch 17: accuracy did not improve from 0.95974\n",
            "119/119 [==============================] - 11s 95ms/step - loss: 0.2719 - accuracy: 0.9192 - val_loss: 0.4939 - val_accuracy: 0.8358\n",
            "Epoch 18/20\n",
            "119/119 [==============================] - ETA: 0s - loss: 0.1674 - accuracy: 0.9468\n",
            "Epoch 18: accuracy did not improve from 0.95974\n",
            "119/119 [==============================] - 10s 85ms/step - loss: 0.1674 - accuracy: 0.9468 - val_loss: 0.3898 - val_accuracy: 0.8863\n",
            "Epoch 19/20\n",
            "119/119 [==============================] - ETA: 0s - loss: 0.1060 - accuracy: 0.9637\n",
            "Epoch 19: accuracy improved from 0.95974 to 0.96368, saving model to /content/drive/My Drive/DL/vgg16_best5.h5\n",
            "119/119 [==============================] - 11s 91ms/step - loss: 0.1060 - accuracy: 0.9637 - val_loss: 0.5365 - val_accuracy: 0.8505\n",
            "Epoch 20/20\n",
            "119/119 [==============================] - ETA: 0s - loss: 0.0914 - accuracy: 0.9692\n",
            "Epoch 20: accuracy improved from 0.96368 to 0.96921, saving model to /content/drive/My Drive/DL/vgg16_best5.h5\n",
            "119/119 [==============================] - 11s 92ms/step - loss: 0.0914 - accuracy: 0.9692 - val_loss: 0.5888 - val_accuracy: 0.8168\n"
          ]
        },
        {
          "output_type": "execute_result",
          "data": {
            "text/plain": [
              "<keras.callbacks.History at 0x7f66889a6850>"
            ]
          },
          "metadata": {},
          "execution_count": 13
        }
      ]
    },
    {
      "cell_type": "markdown",
      "source": [
        "##Loading the saved model and Testing cases"
      ],
      "metadata": {
        "id": "oRVv-Ft_11Y-"
      }
    },
    {
      "cell_type": "code",
      "source": [
        "trained_model=keras.models.load_model('/content/drive/My Drive/DL/vgg16_best5.h5')"
      ],
      "metadata": {
        "id": "cmuV52L31-Ey"
      },
      "execution_count": 14,
      "outputs": []
    },
    {
      "cell_type": "code",
      "source": [
        "plt.imshow(x_val[0])"
      ],
      "metadata": {
        "colab": {
          "base_uri": "https://localhost:8080/",
          "height": 285
        },
        "id": "b6seb0f85kSj",
        "outputId": "38005e95-381f-4075-c271-789f723eab7d"
      },
      "execution_count": 15,
      "outputs": [
        {
          "output_type": "execute_result",
          "data": {
            "text/plain": [
              "<matplotlib.image.AxesImage at 0x7f66fae8efa0>"
            ]
          },
          "metadata": {},
          "execution_count": 15
        },
        {
          "output_type": "display_data",
          "data": {
            "text/plain": [
              "<Figure size 432x288 with 1 Axes>"
            ],
            "image/png": "[encoded data removed]"
          },
          "metadata": {
            "needs_background": "light"
          }
        }
      ]
    },
    {
      "cell_type": "code",
      "source": [
        "y_pred=trained_model.predict(x_val)"
      ],
      "metadata": {
        "id": "Q0UhcL_J2Uif",
        "colab": {
          "base_uri": "https://localhost:8080/"
        },
        "outputId": "5b6572e3-10d5-432a-e991-8a3318f01cf6"
      },
      "execution_count": 16,
      "outputs": [
        {
          "output_type": "stream",
          "name": "stdout",
          "text": [
            "30/30 [==============================] - 2s 43ms/step\n"
          ]
        }
      ]
    },
    {
      "cell_type": "code",
      "source": [
        "y_pred[0]"
      ],
      "metadata": {
        "colab": {
          "base_uri": "https://localhost:8080/"
        },
        "id": "9QKZc0WXYchg",
        "outputId": "11dc3b0f-528b-4437-d217-d65a18dd0e3a"
      },
      "execution_count": 17,
      "outputs": [
        {
          "output_type": "execute_result",
          "data": {
            "text/plain": [
              "array([6.6858850e-13, 3.7891332e-05, 8.7184279e-05, 1.7547836e-11,\n",
              "       4.0965937e-12, 4.9776579e-11, 1.0605271e-06, 2.3306402e-05,\n",
              "       5.1830806e-10, 1.0228133e-06, 9.9984920e-01, 2.0395080e-07],\n",
              "      dtype=float32)"
            ]
          },
          "metadata": {},
          "execution_count": 17
        }
      ]
    },
    {
      "cell_type": "code",
      "source": [
        "print('The predicted class is ',Label_names[np.argmax(y_pred[0])])\n",
        "print('The actual class is ',Label_names[np.argmax(y_val[0])])\n"
      ],
      "metadata": {
        "colab": {
          "base_uri": "https://localhost:8080/"
        },
        "id": "gLF0XZ4K6anA",
        "outputId": "34267e34-a196-4b40-ad62-1369de939d1e"
      },
      "execution_count": 18,
      "outputs": [
        {
          "output_type": "stream",
          "name": "stdout",
          "text": [
            "The predicted class is  Small-flowered Cranesbill\n",
            "The actual class is  Small-flowered Cranesbill\n"
          ]
        }
      ]
    },
    {
      "cell_type": "markdown",
      "source": [
        "## Metrics"
      ],
      "metadata": {
        "id": "akTXTv_r_RFE"
      }
    },
    {
      "cell_type": "code",
      "source": [
        "y_label=[]\n",
        "for i in np.arange(y_pred.shape[0]):\n",
        "  y_label.append(np.argmax(y_pred[i]))"
      ],
      "metadata": {
        "id": "Z8FmMlTs6nTk"
      },
      "execution_count": 19,
      "outputs": []
    },
    {
      "cell_type": "code",
      "source": [
        "y_actual=[]\n",
        "for i in np.arange(y_val.shape[0]):\n",
        "  y_actual.append(np.argmax(y_val[i]))"
      ],
      "metadata": {
        "id": "lXT618wG7Lpf"
      },
      "execution_count": 20,
      "outputs": []
    },
    {
      "cell_type": "code",
      "source": [
        "\n",
        "cr=metrics.classification_report(y_actual,y_label)\n",
        "print(cr)"
      ],
      "metadata": {
        "colab": {
          "base_uri": "https://localhost:8080/"
        },
        "id": "T06MkMHB6XOs",
        "outputId": "d1dafec5-fd66-4e82-f401-333034681def"
      },
      "execution_count": 21,
      "outputs": [
        {
          "output_type": "stream",
          "name": "stdout",
          "text": [
            "              precision    recall  f1-score   support\n",
            "\n",
            "           0       0.47      0.60      0.53        55\n",
            "           1       0.90      0.97      0.93        90\n",
            "           2       0.80      0.83      0.82        59\n",
            "           3       0.95      0.87      0.91       120\n",
            "           4       0.76      0.77      0.76        48\n",
            "           5       0.94      0.63      0.76       104\n",
            "           6       0.84      0.78      0.81       121\n",
            "           7       0.82      0.80      0.81        45\n",
            "           8       0.87      0.79      0.83        95\n",
            "           9       0.85      0.77      0.81        44\n",
            "          10       0.97      0.97      0.97        93\n",
            "          11       0.60      0.93      0.73        76\n",
            "\n",
            "    accuracy                           0.82       950\n",
            "   macro avg       0.81      0.81      0.80       950\n",
            "weighted avg       0.84      0.82      0.82       950\n",
            "\n"
          ]
        }
      ]
    },
    {
      "cell_type": "markdown",
      "source": [
        "The model works fairly accurate. The prediction capabilities lag in consideration to classes 0,6,7 and 8"
      ],
      "metadata": {
        "id": "HC68sSYr_bnu"
      }
    },
    {
      "cell_type": "code",
      "source": [
        "cm=metrics.confusion_matrix(y_actual,y_label)\n",
        "print(cm)"
      ],
      "metadata": {
        "colab": {
          "base_uri": "https://localhost:8080/"
        },
        "id": "3hZQnzboSY6B",
        "outputId": "27b979d0-f9e6-4324-c47e-0ae86b1aa039"
      },
      "execution_count": 22,
      "outputs": [
        {
          "output_type": "stream",
          "name": "stdout",
          "text": [
            "[[ 33   0   0   0   4   0  17   0   1   0   0   0]\n",
            " [  0  87   1   0   0   0   0   1   0   0   0   1]\n",
            " [  0   5  49   0   1   0   0   3   0   0   0   1]\n",
            " [  1   0   0 104   0   0   0   0   6   5   2   2]\n",
            " [ 10   0   0   0  37   1   0   0   0   0   0   0]\n",
            " [  0   1   2   1   2  66   0   0   0   0   0  32]\n",
            " [ 26   0   0   0   1   0  94   0   0   0   0   0]\n",
            " [  0   0   0   0   3   0   0  36   0   0   0   6]\n",
            " [  0   0   9   3   0   1   1   1  75   1   0   4]\n",
            " [  0   3   0   0   0   1   0   0   4  34   1   1]\n",
            " [  0   1   0   1   0   0   0   0   0   0  90   1]\n",
            " [  0   0   0   0   1   1   0   3   0   0   0  71]]\n"
          ]
        }
      ]
    }
  ]
}