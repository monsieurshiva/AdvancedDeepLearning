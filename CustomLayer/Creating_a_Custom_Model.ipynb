{
  "cells": [
    {
      "cell_type": "markdown",
      "metadata": {
        "id": "view-in-github",
        "colab_type": "text"
      },
      "source": [
        "<a href=\"https://colab.research.google.com/github/monsieurshiva/AdvancedDeepLearning/blob/main/CustomLayer/Creating_a_Custom_Model.ipynb\" target=\"_parent\"><img src=\"https://colab.research.google.com/assets/colab-badge.svg\" alt=\"Open In Colab\"/></a>"
      ]
    },
    {
      "cell_type": "markdown",
      "metadata": {
        "id": "eX2hzFkhdztW"
      },
      "source": [
        "# Coding a Wide and Deep Model\n",
        "\n",
        "We will implement a wide and deep model. We'll first look at how to build it with the Functional API and then encapsulate this into a class."
      ]
    },
    {
      "cell_type": "markdown",
      "metadata": {
        "id": "ZmMYFSzodztb"
      },
      "source": [
        "## Imports"
      ]
    },
    {
      "cell_type": "code",
      "execution_count": 1,
      "metadata": {
        "id": "CmI9MQA6Z72_"
      },
      "outputs": [],
      "source": [
        "import tensorflow as tf\n",
        "from tensorflow.keras.layers import Dense\n",
        "from tensorflow.keras import Model\n",
        "from tensorflow.keras.layers import concatenate\n",
        "from tensorflow.keras.layers import Input\n",
        "from tensorflow.keras.utils import plot_model"
      ]
    },
    {
      "cell_type": "code",
      "execution_count": 2,
      "metadata": {
        "colab": {
          "base_uri": "https://localhost:8080/",
          "height": 466
        },
        "id": "Uz4pA6uEucZ8",
        "outputId": "35833b6d-f70a-4f6d-c1de-df2f3f0ed339"
      },
      "outputs": [
        {
          "output_type": "execute_result",
          "data": {
            "image/png": "[encoded data removed]",
            "text/plain": [
              "<IPython.core.display.Image object>"
            ]
          },
          "metadata": {},
          "execution_count": 2
        }
      ],
      "source": [
        "# define inputs\n",
        "input_a = Input(shape=[1], name=\"Wide_Input\")\n",
        "input_b = Input(shape=[1], name=\"Deep_Input\")\n",
        "\n",
        "# define deep path\n",
        "hidden_1 = Dense(30, activation=\"relu\")(input_b)\n",
        "hidden_2 = Dense(30, activation=\"relu\")(hidden_1)\n",
        "\n",
        "# define merged path\n",
        "concat = concatenate([input_a, hidden_2])\n",
        "output = Dense(1, name=\"Output\")(concat)\n",
        "\n",
        "# define another output for the deep path\n",
        "aux_output = Dense(1,name=\"aux_Output\")(hidden_2)\n",
        "\n",
        "# build the model\n",
        "model = Model(inputs=[input_a, input_b], outputs=[output, aux_output])\n",
        "\n",
        "# visualize the architecture\n",
        "plot_model(model)"
      ]
    },
    {
      "cell_type": "markdown",
      "metadata": {
        "id": "eAn8HqVJdztg"
      },
      "source": [
        "## Implement as a Class\n",
        "\n",
        "Alternatively, you can also implement this same model as a class. \n",
        "- For that, you define a class that inherits from the [Model](https://keras.io/api/models/model/) class.\n",
        "- Inheriting from the existing `Model` class lets you use the Model methods such as `compile()`, `fit()`, `evaluate()`. \n",
        "\n",
        "When inheriting from `Model`, you will want to define at least two functions:\n",
        "- `__init__()`: you will initialize the instance attributes.\n",
        "- `call()`: you will build the network and return the output layers.\n",
        "\n",
        "If you compare the two methods, the structure is very similar, except when using the class, you'll define all the layers in one function, `init`, and connect the layers together in another function, `call`."
      ]
    },
    {
      "cell_type": "code",
      "execution_count": 3,
      "metadata": {
        "id": "NwyCp57qqdXS"
      },
      "outputs": [],
      "source": [
        "# inherit from the Model base class\n",
        "class WideAndDeepModel(Model):\n",
        "    def __init__(self, units=30, activation='relu', **kwargs):\n",
        "        '''initializes the instance attributes'''\n",
        "        super().__init__(**kwargs)\n",
        "        self.hidden1 = Dense(units, activation=activation)\n",
        "        self.hidden2 = Dense(units, activation=activation)\n",
        "        self.main_output = Dense(1)\n",
        "        self.aux_output = Dense(1)\n",
        "\n",
        "    def call(self, inputs):\n",
        "        '''defines the network architecture'''\n",
        "        input_A, input_B = inputs\n",
        "        hidden1 = self.hidden1(input_B)\n",
        "        hidden2 = self.hidden2(hidden1)\n",
        "        concat = concatenate([input_A, hidden2])\n",
        "        main_output = self.main_output(concat)\n",
        "        aux_output = self.aux_output(hidden2)\n",
        "        \n",
        "        return main_output, aux_output\n"
      ]
    },
    {
      "cell_type": "code",
      "execution_count": 4,
      "metadata": {
        "colab": {
          "base_uri": "https://localhost:8080/"
        },
        "id": "KVOkjlgwuD_9",
        "outputId": "75b453dc-cf8f-44f1-f451-62d69f6ba8ae"
      },
      "outputs": [
        {
          "output_type": "execute_result",
          "data": {
            "text/plain": [
              "<__main__.WideAndDeepModel at 0x7fad08c5cbe0>"
            ]
          },
          "metadata": {},
          "execution_count": 4
        }
      ],
      "source": [
        "# create an instance of the model\n",
        "model = WideAndDeepModel()\n",
        "model"
      ]
    }
  ],
  "metadata": {
    "colab": {
      "provenance": [],
      "include_colab_link": true
    },
    "kernelspec": {
      "display_name": "Python 3",
      "language": "python",
      "name": "python3"
    },
    "language_info": {
      "codemirror_mode": {
        "name": "ipython",
        "version": 3
      },
      "file_extension": ".py",
      "mimetype": "text/x-python",
      "name": "python",
      "nbconvert_exporter": "python",
      "pygments_lexer": "ipython3",
      "version": "3.7.6"
    }
  },
  "nbformat": 4,
  "nbformat_minor": 0
}