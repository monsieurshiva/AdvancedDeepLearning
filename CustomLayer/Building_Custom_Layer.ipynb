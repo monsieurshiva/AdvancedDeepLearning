{
  "cells": [
    {
      "cell_type": "markdown",
      "metadata": {
        "id": "view-in-github",
        "colab_type": "text"
      },
      "source": [
        "<a href=\"https://colab.research.google.com/github/monsieurshiva/AdvancedDeepLearning/blob/main/CustomLayer/Building_Custom_Layer.ipynb\" target=\"_parent\"><img src=\"https://colab.research.google.com/assets/colab-badge.svg\" alt=\"Open In Colab\"/></a>"
      ]
    },
    {
      "cell_type": "markdown",
      "metadata": {
        "id": "MjWhGYHd3fbN"
      },
      "source": [
        "# Building a Custom Dense Layer\n",
        "\n",
        "We will create a custom layer that inherits the [Layer](https://keras.io/api/layers/base_layer/#layer-class) class."
      ]
    },
    {
      "cell_type": "markdown",
      "metadata": {
        "id": "X-nQ5Xqm3fbS"
      },
      "source": [
        "## Imports"
      ]
    },
    {
      "cell_type": "code",
      "execution_count": null,
      "metadata": {
        "colab": {
          "background_save": true
        },
        "id": "DpioxwFXD9Is"
      },
      "outputs": [],
      "source": [
        "import tensorflow as tf\n",
        "import numpy as np\n",
        "from tensorflow.keras.layers import Layer\n"
      ]
    },
    {
      "cell_type": "markdown",
      "metadata": {
        "id": "evGmCuft3fbW"
      },
      "source": [
        "## Custom Layer with weights\n",
        "\n",
        "To make custom layer that is trainable, we need to define a class that inherits the [Layer](https://keras.io/api/layers/base_layer/#layer-class) base class from Keras. The Python syntax is shown below in the class declaration. This class requires three functions: `__init__()`, `build()` and `call()`. These ensure that our custom layer has a *state* and *computation* that can be accessed during training or inference."
      ]
    },
    {
      "cell_type": "code",
      "execution_count": null,
      "metadata": {
        "id": "jnVrzRT6BPWl"
      },
      "outputs": [],
      "source": [
        "class SimpleDense(Layer):\n",
        "\n",
        "    def __init__(self, units=32, activation=None):\n",
        "        '''Initializes the instance attributes'''\n",
        "        super(SimpleDense, self).__init__()\n",
        "        self.units = units\n",
        "        # define the activation to get from the built-in activation layers in Keras\n",
        "        self.activation = tf.keras.activations.get(activation)\n",
        "\n",
        "    def build(self, input_shape):\n",
        "        '''Create the state of the layer (weights)'''\n",
        "        # initialize the weights\n",
        "        w_init = tf.random_normal_initializer()\n",
        "        self.w = tf.Variable(name=\"kernel\",\n",
        "            initial_value=w_init(shape=(input_shape[-1], self.units),\n",
        "                                 dtype='float32'),\n",
        "            trainable=True)\n",
        "\n",
        "        # initialize the biases\n",
        "        b_init = tf.zeros_initializer()\n",
        "        self.b = tf.Variable(name=\"bias\",\n",
        "            initial_value=b_init(shape=(self.units,), dtype='float32'),\n",
        "            trainable=True)\n",
        "\n",
        "    def call(self, inputs):\n",
        "        '''Defines the computation from inputs to outputs'''\n",
        "        return self.activation(tf.matmul(inputs, self.w) + self.b)"
      ]
    },
    {
      "cell_type": "markdown",
      "metadata": {
        "id": "mtQzqGOI3fbY"
      },
      "source": [
        "Now we can use our custom layer like below:"
      ]
    },
    {
      "cell_type": "code",
      "execution_count": null,
      "metadata": {
        "id": "PHvsf_yg3fbY",
        "outputId": "a2e823a4-d2e6-43c0-9068-a0802e186ecd"
      },
      "outputs": [
        {
          "name": "stdout",
          "output_type": "stream",
          "text": [
            "[<tf.Variable 'simple_dense/kernel:0' shape=(1, 1) dtype=float32, numpy=array([[-0.03951098]], dtype=float32)>, <tf.Variable 'simple_dense/bias:0' shape=(1,) dtype=float32, numpy=array([0.], dtype=float32)>]\n"
          ]
        }
      ],
      "source": [
        "# declare an instance of the class\n",
        "my_dense = SimpleDense(units=1)\n",
        "\n",
        "# define an input and feed into the layer\n",
        "x = tf.ones((1, 1))\n",
        "y = my_dense(x)\n",
        "\n",
        "# parameters of the base Layer class like `variables` can be used\n",
        "print(my_dense.variables)"
      ]
    },
    {
      "cell_type": "markdown",
      "metadata": {
        "id": "JdFaGcOR3fba"
      },
      "source": [
        "Let's then try using it in simple network:"
      ]
    },
    {
      "cell_type": "code",
      "execution_count": null,
      "metadata": {
        "id": "WwTPJT4DkTyW",
        "outputId": "94a8ad32-e42c-4184-9555-fa12dd09ffd5"
      },
      "outputs": [
        {
          "name": "stdout",
          "output_type": "stream",
          "text": [
            "1/1 [==============================] - 0s 316ms/step\n",
            "[[17.953257]]\n",
            "[<tf.Variable 'simple_dense_2/kernel:0' shape=(1, 1) dtype=float32, numpy=array([[1.8517336]], dtype=float32)>, <tf.Variable 'simple_dense_2/bias:0' shape=(1,) dtype=float32, numpy=array([-0.564079], dtype=float32)>]\n"
          ]
        }
      ],
      "source": [
        "# define the dataset\n",
        "xs = np.array([-1.0,  0.0, 1.0, 2.0, 3.0, 4.0], dtype=float)\n",
        "ys = np.array([-3.0, -1.0, 1.0, 3.0, 5.0, 7.0], dtype=float)\n",
        "\n",
        "\n",
        "# use the Sequential API to build a model with our custom layer\n",
        "my_layer = SimpleDense(units=1,activation='relu')\n",
        "model = tf.keras.Sequential([my_layer])\n",
        "\n",
        "# configure and train the model\n",
        "model.compile(optimizer='sgd', loss='mean_squared_error')\n",
        "model.fit(tf.expand_dims(xs, axis=-1), ys, epochs=500,verbose=0)\n",
        "\n",
        "# perform inference\n",
        "print(model.predict([10.0]))\n",
        "\n",
        "# see the updated state of the variables\n",
        "print(my_layer.variables)"
      ]
    },
    {
      "cell_type": "markdown",
      "metadata": {
        "id": "_vGHEXkx_aRg"
      },
      "source": [
        "## Implementing a Simple Quadratic Layer"
      ]
    },
    {
      "cell_type": "markdown",
      "metadata": {
        "id": "DZNW6U9p_aRg"
      },
      "source": [
        "It has 3 state variables: $a$, $b$ and $c$. The computation returned is $ax^2 + bx + c$."
      ]
    },
    {
      "cell_type": "code",
      "execution_count": null,
      "metadata": {
        "id": "uS16lxn4_aRh"
      },
      "outputs": [],
      "source": [
        "class SimpleQuadratic(Layer):\n",
        "\n",
        "    def __init__(self, units=32, activation=None):\n",
        "        '''Initializes the class and sets up the internal variables'''\n",
        "        super(SimpleQuadratic, self).__init__()\n",
        "        self.units = units\n",
        "        # define the activation to get from the built-in activation layers in Keras\n",
        "        self.activation = tf.keras.activations.get(activation)\n",
        "    \n",
        "    def build(self, input_shape):\n",
        "        '''Create the state of the layer (weights)'''\n",
        "        # a and b should be initialized with random normal, c (or the bias) with zeros.\n",
        "        # remember to set these as trainable.\n",
        "        a_init = tf.random_normal_initializer()\n",
        "        self.a = tf.Variable(name=\"kernel\",\n",
        "            initial_value=a_init(shape=(input_shape[-1], self.units),\n",
        "                                 dtype='float32'),\n",
        "            trainable=True)\n",
        "        \n",
        "        b_init = tf.random_normal_initializer()\n",
        "        self.b = tf.Variable(name=\"kernel\",\n",
        "            initial_value=b_init(shape=(input_shape[-1], self.units),\n",
        "                                 dtype='float32'),\n",
        "            trainable=True)\n",
        "        # initialize the biases\n",
        "        c_init = tf.zeros_initializer()\n",
        "        self.c = tf.Variable(name=\"bias\",\n",
        "            initial_value=c_init(shape=(self.units,), dtype='float32'),\n",
        "            trainable=True)\n",
        "   \n",
        "    def call(self, inputs):\n",
        "        '''Defines the computation from inputs to outputs'''\n",
        "        # Remember to use self.activation() to get the final output\n",
        "        return self.activation(tf.matmul(tf.math.square(inputs),self.a)+tf.matmul(inputs,self.b)+self.c)"
      ]
    },
    {
      "cell_type": "code",
      "execution_count": null,
      "metadata": {
        "id": "jcJvhWec_aRh",
        "outputId": "aaf636ce-2b34-4ac0-8d90-e57fb9e32103"
      },
      "outputs": [
        {
          "name": "stdout",
          "output_type": "stream",
          "text": [
            "Downloading data from https://storage.googleapis.com/tensorflow/tf-keras-datasets/mnist.npz\n",
            "11490434/11490434 [==============================] - 3s 0us/step\n",
            "Epoch 1/5\n",
            "1875/1875 [==============================] - 11s 5ms/step - loss: 0.2671 - accuracy: 0.9212\n",
            "Epoch 2/5\n",
            "1875/1875 [==============================] - 9s 5ms/step - loss: 0.1297 - accuracy: 0.9618\n",
            "Epoch 3/5\n",
            "1875/1875 [==============================] - 9s 5ms/step - loss: 0.1000 - accuracy: 0.9689\n",
            "Epoch 4/5\n",
            "1875/1875 [==============================] - 9s 5ms/step - loss: 0.0821 - accuracy: 0.9745\n",
            "Epoch 5/5\n",
            "1875/1875 [==============================] - 9s 5ms/step - loss: 0.0709 - accuracy: 0.9775\n",
            "313/313 [==============================] - 3s 3ms/step - loss: 0.0788 - accuracy: 0.9764\n"
          ]
        },
        {
          "data": {
            "text/plain": [
              "[0.0788261890411377, 0.9764000177383423]"
            ]
          },
          "execution_count": 7,
          "metadata": {},
          "output_type": "execute_result"
        }
      ],
      "source": [
        "mnist = tf.keras.datasets.mnist\n",
        "\n",
        "(x_train, y_train),(x_test, y_test) = mnist.load_data()\n",
        "x_train, x_test = x_train / 255.0, x_test / 255.0\n",
        "\n",
        "model = tf.keras.models.Sequential([\n",
        "  tf.keras.layers.Flatten(input_shape=(28, 28)),\n",
        "  SimpleQuadratic(128, activation='relu'),\n",
        "  tf.keras.layers.Dropout(0.2),\n",
        "  tf.keras.layers.Dense(10, activation='softmax')\n",
        "])\n",
        "\n",
        "model.compile(optimizer='adam',\n",
        "              loss='sparse_categorical_crossentropy',\n",
        "              metrics=['accuracy'])\n",
        "\n",
        "model.fit(x_train, y_train, epochs=5)\n",
        "model.evaluate(x_test, y_test)"
      ]
    }
  ],
  "metadata": {
    "colab": {
      "provenance": [],
      "include_colab_link": true
    },
    "kernelspec": {
      "display_name": "Python 3 (ipykernel)",
      "language": "python",
      "name": "python3"
    },
    "language_info": {
      "codemirror_mode": {
        "name": "ipython",
        "version": 3
      },
      "file_extension": ".py",
      "mimetype": "text/x-python",
      "name": "python",
      "nbconvert_exporter": "python",
      "pygments_lexer": "ipython3",
      "version": "3.9.13"
    }
  },
  "nbformat": 4,
  "nbformat_minor": 0
}